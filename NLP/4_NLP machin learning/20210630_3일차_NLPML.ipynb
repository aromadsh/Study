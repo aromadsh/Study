{
 "cells": [
  {
   "cell_type": "markdown",
   "metadata": {},
   "source": [
    "# 3. TF-IDF (Term Frequency-Inverse Document Frequency)\n",
    "\n",
    "# 3-1 직접계산하기"
   ]
  },
  {
   "cell_type": "code",
   "execution_count": 1,
   "metadata": {},
   "outputs": [],
   "source": [
    "docs = ['오늘 동물원에서 원숭이를 봤어',\n",
    "        '오늘 동물원에서 코끼리를 봤어 봤어',\n",
    "        '동물원에서 원숭이에게 바나나를 줬어 바나나를']"
   ]
  },
  {
   "cell_type": "markdown",
   "metadata": {},
   "source": [
    "#### 1) 띄어쓰기 단위로 토큰화"
   ]
  },
  {
   "cell_type": "code",
   "execution_count": 2,
   "metadata": {
    "scrolled": true
   },
   "outputs": [
    {
     "data": {
      "text/plain": [
       "[['오늘', '동물원에서', '원숭이를', '봤어'],\n",
       " ['오늘', '동물원에서', '코끼리를', '봤어', '봤어'],\n",
       " ['동물원에서', '원숭이에게', '바나나를', '줬어', '바나나를']]"
      ]
     },
     "execution_count": 2,
     "metadata": {},
     "output_type": "execute_result"
    }
   ],
   "source": [
    "doc_ls = [i.split() for i in docs]\n",
    "doc_ls"
   ]
  },
  {
   "cell_type": "markdown",
   "metadata": {},
   "source": [
    "#### 2) 각 고유 토큰에 인텍스(Index)를 지정"
   ]
  },
  {
   "cell_type": "code",
   "execution_count": 3,
   "metadata": {},
   "outputs": [
    {
     "data": {
      "text/plain": [
       "defaultdict(<function __main__.<lambda>()>,\n",
       "            {'오늘': 0,\n",
       "             '동물원에서': 1,\n",
       "             '원숭이를': 2,\n",
       "             '봤어': 3,\n",
       "             '코끼리를': 4,\n",
       "             '원숭이에게': 5,\n",
       "             '바나나를': 6,\n",
       "             '줬어': 7})"
      ]
     },
     "execution_count": 3,
     "metadata": {},
     "output_type": "execute_result"
    }
   ],
   "source": [
    "from collections import defaultdict\n",
    "\n",
    "word2id = defaultdict(lambda : len(word2id))\n",
    "[word2id[t] for doc in doc_ls for t in doc]\n",
    "\n",
    "word2id"
   ]
  },
  {
   "cell_type": "markdown",
   "metadata": {},
   "source": [
    "#### 3) DTM 생성"
   ]
  },
  {
   "cell_type": "code",
   "execution_count": 5,
   "metadata": {},
   "outputs": [
    {
     "data": {
      "text/plain": [
       "array([[1, 1, 1, 1, 0, 0, 0, 0],\n",
       "       [1, 1, 0, 2, 1, 0, 0, 0],\n",
       "       [0, 1, 0, 0, 0, 1, 2, 1]])"
      ]
     },
     "execution_count": 5,
     "metadata": {},
     "output_type": "execute_result"
    }
   ],
   "source": [
    "import numpy as np\n",
    "\n",
    "DTM = np.zeros((len(doc_ls), len(word2id)), dtype = int)\n",
    "\n",
    "for i, doc in enumerate(doc_ls):\n",
    "    for word in doc:\n",
    "        DTM[i, word2id[word]] += 1\n",
    "DTM"
   ]
  },
  {
   "cell_type": "code",
   "execution_count": 6,
   "metadata": {},
   "outputs": [
    {
     "data": {
      "text/plain": [
       "array([1, 2, 0])"
      ]
     },
     "execution_count": 6,
     "metadata": {},
     "output_type": "execute_result"
    }
   ],
   "source": [
    "# 행만 가져올때\n",
    "DTM[:, 3]"
   ]
  },
  {
   "cell_type": "code",
   "execution_count": 7,
   "metadata": {},
   "outputs": [
    {
     "data": {
      "text/plain": [
       "2"
      ]
     },
     "execution_count": 7,
     "metadata": {},
     "output_type": "execute_result"
    }
   ],
   "source": [
    "np.count_nonzero(DTM[:, 3]) # 열에서 0 값이 아닌것의 갯수(4열의 0값이 아닌거)"
   ]
  },
  {
   "cell_type": "markdown",
   "metadata": {},
   "source": [
    "#### 4) TF 계산\n",
    "#### TF = 문서내 토크빈도 / 문서 내 전체 토큰 갯수"
   ]
  },
  {
   "cell_type": "markdown",
   "metadata": {},
   "source": [
    "문서내 토큰 수 (2 or 1 or 0) / 문서내 전체 토큰 빈도수 (1행 : 4, 2행 : 5, 3행 : 5) "
   ]
  },
  {
   "cell_type": "code",
   "execution_count": 8,
   "metadata": {},
   "outputs": [
    {
     "data": {
      "text/plain": [
       "array([[0.25, 0.25, 0.25, 0.25, 0.  , 0.  , 0.  , 0.  ],\n",
       "       [0.2 , 0.2 , 0.  , 0.4 , 0.2 , 0.  , 0.  , 0.  ],\n",
       "       [0.  , 0.2 , 0.  , 0.  , 0.  , 0.2 , 0.4 , 0.2 ]])"
      ]
     },
     "execution_count": 8,
     "metadata": {},
     "output_type": "execute_result"
    }
   ],
   "source": [
    "def computeTF(DTM):\n",
    "    doc_len = len(doc_ls)\n",
    "    word_len = len(word2id)\n",
    "    tf = np.zeros((doc_len, word_len))\n",
    "    for doc_idx in range(doc_len):\n",
    "        for word_idx in range(word_len):\n",
    "            tf[doc_idx, word_idx] = DTM[doc_idx, word_idx]/DTM[doc_idx].sum()\n",
    "\n",
    "    return tf\n",
    "\n",
    "computeTF(DTM)"
   ]
  },
  {
   "cell_type": "markdown",
   "metadata": {},
   "source": [
    "#### 5) IDF 계산\n",
    "#### IDF = log(총 문서 수 / 토큰이 등장한 문서 수)"
   ]
  },
  {
   "cell_type": "code",
   "execution_count": 9,
   "metadata": {},
   "outputs": [
    {
     "data": {
      "text/plain": [
       "array([ 0.17609126, -0.        ,  0.47712125,  0.17609126,  0.47712125,\n",
       "        0.47712125,  0.47712125,  0.47712125])"
      ]
     },
     "execution_count": 9,
     "metadata": {},
     "output_type": "execute_result"
    }
   ],
   "source": [
    "import math\n",
    "\n",
    "def computeIDF(DTM):\n",
    "    doc_len = len(DTM)\n",
    "    word_len = len(DTM[0])\n",
    "    idf = np.zeros(word_len)\n",
    "    for i in range(word_len):\n",
    "        idf[i] = -math.log10(np.count_nonzero(DTM[:, i])/doc_len)\n",
    "\n",
    "    return idf\n",
    "      \n",
    "computeIDF(DTM)    "
   ]
  },
  {
   "cell_type": "markdown",
   "metadata": {},
   "source": [
    "#### 6) TF-IDF 계산"
   ]
  },
  {
   "cell_type": "code",
   "execution_count": 10,
   "metadata": {
    "scrolled": true
   },
   "outputs": [
    {
     "name": "stdout",
     "output_type": "stream",
     "text": [
      "(3, 8)\n"
     ]
    }
   ],
   "source": [
    "print(DTM.shape)"
   ]
  },
  {
   "cell_type": "code",
   "execution_count": 12,
   "metadata": {},
   "outputs": [
    {
     "data": {
      "text/plain": [
       "array([[ 0.04402281, -0.        ,  0.11928031,  0.04402281,  0.        ,\n",
       "         0.        ,  0.        ,  0.        ],\n",
       "       [ 0.03521825, -0.        ,  0.        ,  0.0704365 ,  0.09542425,\n",
       "         0.        ,  0.        ,  0.        ],\n",
       "       [ 0.        , -0.        ,  0.        ,  0.        ,  0.        ,\n",
       "         0.09542425,  0.1908485 ,  0.09542425]])"
      ]
     },
     "execution_count": 12,
     "metadata": {},
     "output_type": "execute_result"
    }
   ],
   "source": [
    "def computeTFIDF(DTM):\n",
    "    tf = computeTF(DTM)\n",
    "    idf = computeIDF(DTM)\n",
    "    \n",
    "#     tfidf = tf*idf # broadcasting\n",
    "    \n",
    "    tfidf = np.zeros(tf.shape)\n",
    "    for doc_idx in range(tf.shape[0]):\n",
    "        for word_idx in range(tf.shape[1]):\n",
    "            tfidf[doc_idx, word_idx] = tf[doc_idx, word_idx] * idf[word_idx]\n",
    "    return tfidf\n",
    "\n",
    "computeTFIDF(DTM)"
   ]
  },
  {
   "cell_type": "code",
   "execution_count": 13,
   "metadata": {},
   "outputs": [
    {
     "data": {
      "text/html": [
       "<div>\n",
       "<style scoped>\n",
       "    .dataframe tbody tr th:only-of-type {\n",
       "        vertical-align: middle;\n",
       "    }\n",
       "\n",
       "    .dataframe tbody tr th {\n",
       "        vertical-align: top;\n",
       "    }\n",
       "\n",
       "    .dataframe thead th {\n",
       "        text-align: right;\n",
       "    }\n",
       "</style>\n",
       "<table border=\"1\" class=\"dataframe\">\n",
       "  <thead>\n",
       "    <tr style=\"text-align: right;\">\n",
       "      <th></th>\n",
       "      <th>오늘</th>\n",
       "      <th>동물원에서</th>\n",
       "      <th>원숭이를</th>\n",
       "      <th>봤어</th>\n",
       "      <th>코끼리를</th>\n",
       "      <th>원숭이에게</th>\n",
       "      <th>바나나를</th>\n",
       "      <th>줬어</th>\n",
       "    </tr>\n",
       "  </thead>\n",
       "  <tbody>\n",
       "    <tr>\n",
       "      <th>0</th>\n",
       "      <td>0.044023</td>\n",
       "      <td>-0.0</td>\n",
       "      <td>0.11928</td>\n",
       "      <td>0.044023</td>\n",
       "      <td>0.000000</td>\n",
       "      <td>0.000000</td>\n",
       "      <td>0.000000</td>\n",
       "      <td>0.000000</td>\n",
       "    </tr>\n",
       "    <tr>\n",
       "      <th>1</th>\n",
       "      <td>0.035218</td>\n",
       "      <td>-0.0</td>\n",
       "      <td>0.00000</td>\n",
       "      <td>0.070437</td>\n",
       "      <td>0.095424</td>\n",
       "      <td>0.000000</td>\n",
       "      <td>0.000000</td>\n",
       "      <td>0.000000</td>\n",
       "    </tr>\n",
       "    <tr>\n",
       "      <th>2</th>\n",
       "      <td>0.000000</td>\n",
       "      <td>-0.0</td>\n",
       "      <td>0.00000</td>\n",
       "      <td>0.000000</td>\n",
       "      <td>0.000000</td>\n",
       "      <td>0.095424</td>\n",
       "      <td>0.190849</td>\n",
       "      <td>0.095424</td>\n",
       "    </tr>\n",
       "  </tbody>\n",
       "</table>\n",
       "</div>"
      ],
      "text/plain": [
       "         오늘  동물원에서     원숭이를        봤어      코끼리를     원숭이에게      바나나를        줬어\n",
       "0  0.044023   -0.0  0.11928  0.044023  0.000000  0.000000  0.000000  0.000000\n",
       "1  0.035218   -0.0  0.00000  0.070437  0.095424  0.000000  0.000000  0.000000\n",
       "2  0.000000   -0.0  0.00000  0.000000  0.000000  0.095424  0.190849  0.095424"
      ]
     },
     "execution_count": 13,
     "metadata": {},
     "output_type": "execute_result"
    }
   ],
   "source": [
    "import pandas as pd\n",
    "\n",
    "sorted_vocab = sorted((value, key) for key, value in word2id.items())\n",
    "vocab = [v[1] for v in sorted_vocab]\n",
    "tfidf = computeTFIDF(DTM)\n",
    "pd.DataFrame(tfidf, columns=vocab)"
   ]
  },
  {
   "cell_type": "markdown",
   "metadata": {},
   "source": [
    "# 3-2 직접 계산하기 2"
   ]
  },
  {
   "cell_type": "code",
   "execution_count": 14,
   "metadata": {},
   "outputs": [],
   "source": [
    "docs = ['오늘 동물원에서 원숭이를 봤어',\n",
    "        '오늘 동물원에서 코끼리를 봤어 봤어',\n",
    "        '동물원에서 원숭이에게 바나나를 줬어 바나나를']"
   ]
  },
  {
   "cell_type": "code",
   "execution_count": 15,
   "metadata": {},
   "outputs": [
    {
     "name": "stdout",
     "output_type": "stream",
     "text": [
      "[['오늘', '동물원에서', '원숭이를', '봤어'], ['오늘', '동물원에서', '코끼리를', '봤어', '봤어'], ['동물원에서', '원숭이에게', '바나나를', '줬어', '바나나를']]\n",
      "['오늘', '동물원에서', '코끼리를', '봤어', '봤어']\n"
     ]
    },
    {
     "data": {
      "text/plain": [
       "2"
      ]
     },
     "execution_count": 15,
     "metadata": {},
     "output_type": "execute_result"
    }
   ],
   "source": [
    "D = [doc.split() for doc in docs]\n",
    "print(D)\n",
    "print(D[1])\n",
    "D[1].count('봤어')"
   ]
  },
  {
   "cell_type": "code",
   "execution_count": 16,
   "metadata": {},
   "outputs": [
    {
     "data": {
      "text/plain": [
       "[True, True]"
      ]
     },
     "execution_count": 16,
     "metadata": {},
     "output_type": "execute_result"
    }
   ],
   "source": [
    "t = \"봤어\"\n",
    "[True for d in D if t in d]"
   ]
  },
  {
   "cell_type": "code",
   "execution_count": 17,
   "metadata": {},
   "outputs": [
    {
     "name": "stdout",
     "output_type": "stream",
     "text": [
      "['코끼리를', '원숭이에게', '봤어', '동물원에서', '바나나를', '줬어', '오늘', '원숭이를']\n",
      "8\n",
      "defaultdict(<function tfidfScorer.<locals>.<lambda> at 0x00000138722E8F78>, {'코끼리를': 0, '원숭이에게': 1, '봤어': 2, '동물원에서': 3, '바나나를': 4, '줬어': 5, '오늘': 6, '원숭이를': 7})\n"
     ]
    },
    {
     "data": {
      "text/plain": [
       "(array([[0.        , 0.        , 1.        , 0.87506126, 0.        ,\n",
       "         0.        , 1.        , 1.17609126],\n",
       "        [0.88206844, 0.        , 1.        , 0.65629595, 0.        ,\n",
       "         0.        , 0.75      , 0.        ],\n",
       "        [0.        , 0.88206844, 0.        , 0.65629595, 1.17609126,\n",
       "         0.88206844, 0.        , 0.        ]]),\n",
       " ['코끼리를', '원숭이에게', '봤어', '동물원에서', '바나나를', '줬어', '오늘', '원숭이를'])"
      ]
     },
     "execution_count": 17,
     "metadata": {},
     "output_type": "execute_result"
    }
   ],
   "source": [
    "# t, d, D, 값이 무엇을 넣어야 하는건지\n",
    "# f 함수는 무엇을 말하고 출력값이 의미하는 것은?\n",
    "from math import log10\n",
    "import numpy as np\n",
    "from collections import defaultdict\n",
    "\n",
    "# document 내 토큰이 등장한 빈도수 계산\n",
    "def f(t, d):\n",
    "    return d.count(t)\n",
    "\n",
    "# tf 계산\n",
    "def tf(t, d):\n",
    "    return 0.5 + 0.5*f(t,d) / max([f(w, d) for w in d])\n",
    "\n",
    "# idf 계산\n",
    "def idf(t, D):\n",
    "    N = len(D)\n",
    "    nt = len([True for d in D if t in d])\n",
    "    return 1+log10(N/(1+nt))\n",
    "\n",
    "# tf-idf 계산\n",
    "def tfidf_score(t, d, D):\n",
    "    return tf(t, d) * idf(t, D)\n",
    "\n",
    "\n",
    "# 공백을 기준으로 토큰과\n",
    "def tokenizer(d):\n",
    "    return d.split()\n",
    "\n",
    "\n",
    "# tfidf 계산  \n",
    "def tfidfScorer(D):\n",
    "    D_ls = [tokenizer(d) for d in D] # 문자열을 리스트로 변환함\n",
    "    \n",
    "    vocab = list(set().union(*D_ls)) # 사전을 만들기 위해 중복값 처리 (set의 합집합으로)\n",
    "    print(vocab)\n",
    "    print(len(vocab))\n",
    "    \n",
    "    word2id = defaultdict(lambda : len(word2id)) # 사전 만듬!\n",
    "#     [word2id[t] for d in D_ls for t in d]\n",
    "    [word2id[v] for v in vocab]\n",
    "    print(word2id)\n",
    "    \n",
    "    tfidf = np.zeros((len(D_ls), len(word2id))) # 빈 리스트 만들고 각 문자열 값 입력 \n",
    "    for i in range(len(D_ls)):\n",
    "        for t in D_ls[i]:\n",
    "            tfidf[i, word2id[t]] = tfidf_score(t, D_ls[i], D_ls)\n",
    "    \n",
    "    \n",
    "    return tfidf, vocab\n",
    "\n",
    "\n",
    "tfidfScorer(docs)"
   ]
  },
  {
   "cell_type": "code",
   "execution_count": 18,
   "metadata": {},
   "outputs": [
    {
     "name": "stdout",
     "output_type": "stream",
     "text": [
      "['코끼리를', '원숭이에게', '봤어', '동물원에서', '바나나를', '줬어', '오늘', '원숭이를']\n",
      "8\n",
      "defaultdict(<function tfidfScorer.<locals>.<lambda> at 0x00000138702F1DC8>, {'코끼리를': 0, '원숭이에게': 1, '봤어': 2, '동물원에서': 3, '바나나를': 4, '줬어': 5, '오늘': 6, '원숭이를': 7})\n"
     ]
    },
    {
     "data": {
      "text/html": [
       "<div>\n",
       "<style scoped>\n",
       "    .dataframe tbody tr th:only-of-type {\n",
       "        vertical-align: middle;\n",
       "    }\n",
       "\n",
       "    .dataframe tbody tr th {\n",
       "        vertical-align: top;\n",
       "    }\n",
       "\n",
       "    .dataframe thead th {\n",
       "        text-align: right;\n",
       "    }\n",
       "</style>\n",
       "<table border=\"1\" class=\"dataframe\">\n",
       "  <thead>\n",
       "    <tr style=\"text-align: right;\">\n",
       "      <th></th>\n",
       "      <th>코끼리를</th>\n",
       "      <th>원숭이에게</th>\n",
       "      <th>봤어</th>\n",
       "      <th>동물원에서</th>\n",
       "      <th>바나나를</th>\n",
       "      <th>줬어</th>\n",
       "      <th>오늘</th>\n",
       "      <th>원숭이를</th>\n",
       "    </tr>\n",
       "  </thead>\n",
       "  <tbody>\n",
       "    <tr>\n",
       "      <th>0</th>\n",
       "      <td>0.000000</td>\n",
       "      <td>0.000000</td>\n",
       "      <td>1.0</td>\n",
       "      <td>0.875061</td>\n",
       "      <td>0.000000</td>\n",
       "      <td>0.000000</td>\n",
       "      <td>1.00</td>\n",
       "      <td>1.176091</td>\n",
       "    </tr>\n",
       "    <tr>\n",
       "      <th>1</th>\n",
       "      <td>0.882068</td>\n",
       "      <td>0.000000</td>\n",
       "      <td>1.0</td>\n",
       "      <td>0.656296</td>\n",
       "      <td>0.000000</td>\n",
       "      <td>0.000000</td>\n",
       "      <td>0.75</td>\n",
       "      <td>0.000000</td>\n",
       "    </tr>\n",
       "    <tr>\n",
       "      <th>2</th>\n",
       "      <td>0.000000</td>\n",
       "      <td>0.882068</td>\n",
       "      <td>0.0</td>\n",
       "      <td>0.656296</td>\n",
       "      <td>1.176091</td>\n",
       "      <td>0.882068</td>\n",
       "      <td>0.00</td>\n",
       "      <td>0.000000</td>\n",
       "    </tr>\n",
       "  </tbody>\n",
       "</table>\n",
       "</div>"
      ],
      "text/plain": [
       "       코끼리를     원숭이에게   봤어     동물원에서      바나나를        줬어    오늘      원숭이를\n",
       "0  0.000000  0.000000  1.0  0.875061  0.000000  0.000000  1.00  1.176091\n",
       "1  0.882068  0.000000  1.0  0.656296  0.000000  0.000000  0.75  0.000000\n",
       "2  0.000000  0.882068  0.0  0.656296  1.176091  0.882068  0.00  0.000000"
      ]
     },
     "execution_count": 18,
     "metadata": {},
     "output_type": "execute_result"
    }
   ],
   "source": [
    "import pandas as pd\n",
    "tfidf,vocab = tfidfScorer(docs)\n",
    "\n",
    "pd.DataFrame(tfidf, columns=vocab)"
   ]
  },
  {
   "cell_type": "markdown",
   "metadata": {},
   "source": [
    "# 3-3 Sklearn 활용"
   ]
  },
  {
   "cell_type": "code",
   "execution_count": 19,
   "metadata": {},
   "outputs": [],
   "source": [
    "docs = ['오늘 동물원에서 원숭이를 봤어',\n",
    "        '오늘 동물원에서 코끼리를 봤어 봤어',\n",
    "        '동물원에서 원숭이에게 바나나를 줬어 바나나를']"
   ]
  },
  {
   "cell_type": "code",
   "execution_count": 20,
   "metadata": {},
   "outputs": [
    {
     "data": {
      "text/plain": [
       "matrix([[0.37311881, 0.        , 0.4804584 , 0.4804584 , 0.63174505,\n",
       "         0.        , 0.        , 0.        ],\n",
       "        [0.28680065, 0.        , 0.73861611, 0.36930805, 0.        ,\n",
       "         0.        , 0.        , 0.48559571],\n",
       "        [0.2344005 , 0.79374908, 0.        , 0.        , 0.        ,\n",
       "         0.39687454, 0.39687454, 0.        ]])"
      ]
     },
     "execution_count": 20,
     "metadata": {},
     "output_type": "execute_result"
    }
   ],
   "source": [
    "from sklearn.feature_extraction.text import TfidfVectorizer\n",
    "\n",
    "tfidf_vect = TfidfVectorizer()\n",
    "tfidf = tfidf_vect.fit_transform(docs)\n",
    "tfidf\n",
    "# tfidf.toarray()\n",
    "tfidf.todense() \n",
    "# toarray(array)와 todense(matrix)는 크게 차이는 없지만 서로 성질이 다르다\n"
   ]
  },
  {
   "cell_type": "code",
   "execution_count": 25,
   "metadata": {
    "scrolled": true
   },
   "outputs": [
    {
     "data": {
      "text/plain": [
       "['동물원에서', '바나나를', '봤어', '오늘', '원숭이를', '원숭이에게', '줬어', '코끼리를']"
      ]
     },
     "execution_count": 25,
     "metadata": {},
     "output_type": "execute_result"
    }
   ],
   "source": [
    "tfidf_vect.get_feature_names() #get_feature_names는 속성값 불러오는 것!"
   ]
  },
  {
   "cell_type": "code",
   "execution_count": 26,
   "metadata": {},
   "outputs": [
    {
     "data": {
      "text/plain": [
       "matrix([[0.37311881, 0.        , 0.4804584 , 0.4804584 , 0.63174505,\n",
       "         0.        , 0.        , 0.        ],\n",
       "        [0.28680065, 0.        , 0.73861611, 0.36930805, 0.        ,\n",
       "         0.        , 0.        , 0.48559571],\n",
       "        [0.2344005 , 0.79374908, 0.        , 0.        , 0.        ,\n",
       "         0.39687454, 0.39687454, 0.        ]])"
      ]
     },
     "execution_count": 26,
     "metadata": {},
     "output_type": "execute_result"
    }
   ],
   "source": [
    "from sklearn.feature_extraction.text import TfidfTransformer, CountVectorizer \n",
    "\n",
    "count_vect = CountVectorizer() # CountVectorizer는 DTM을 만들어준다.\n",
    "# count_vect = CountVectorizer(max_df=0.85)\n",
    "DTM = count_vect.fit_transform(docs)\n",
    "tfidf_trans = TfidfTransformer() # DTM을 tfidf로 계산해준다.\n",
    "tfidf = tfidf_trans.fit_transform(DTM)\n",
    "tfidf.todense()"
   ]
  },
  {
   "cell_type": "code",
   "execution_count": 27,
   "metadata": {},
   "outputs": [
    {
     "data": {
      "text/plain": [
       "['동물원에서', '바나나를', '봤어', '오늘', '원숭이를', '원숭이에게', '줬어', '코끼리를']"
      ]
     },
     "execution_count": 27,
     "metadata": {},
     "output_type": "execute_result"
    }
   ],
   "source": [
    "count_vect.get_feature_names()"
   ]
  },
  {
   "cell_type": "code",
   "execution_count": 28,
   "metadata": {},
   "outputs": [
    {
     "data": {
      "text/html": [
       "<div>\n",
       "<style scoped>\n",
       "    .dataframe tbody tr th:only-of-type {\n",
       "        vertical-align: middle;\n",
       "    }\n",
       "\n",
       "    .dataframe tbody tr th {\n",
       "        vertical-align: top;\n",
       "    }\n",
       "\n",
       "    .dataframe thead th {\n",
       "        text-align: right;\n",
       "    }\n",
       "</style>\n",
       "<table border=\"1\" class=\"dataframe\">\n",
       "  <thead>\n",
       "    <tr style=\"text-align: right;\">\n",
       "      <th></th>\n",
       "      <th>동물원에서</th>\n",
       "      <th>바나나를</th>\n",
       "      <th>봤어</th>\n",
       "      <th>오늘</th>\n",
       "      <th>원숭이를</th>\n",
       "      <th>원숭이에게</th>\n",
       "      <th>줬어</th>\n",
       "      <th>코끼리를</th>\n",
       "    </tr>\n",
       "  </thead>\n",
       "  <tbody>\n",
       "    <tr>\n",
       "      <th>0</th>\n",
       "      <td>0.373119</td>\n",
       "      <td>0.000000</td>\n",
       "      <td>0.480458</td>\n",
       "      <td>0.480458</td>\n",
       "      <td>0.631745</td>\n",
       "      <td>0.000000</td>\n",
       "      <td>0.000000</td>\n",
       "      <td>0.000000</td>\n",
       "    </tr>\n",
       "    <tr>\n",
       "      <th>1</th>\n",
       "      <td>0.286801</td>\n",
       "      <td>0.000000</td>\n",
       "      <td>0.738616</td>\n",
       "      <td>0.369308</td>\n",
       "      <td>0.000000</td>\n",
       "      <td>0.000000</td>\n",
       "      <td>0.000000</td>\n",
       "      <td>0.485596</td>\n",
       "    </tr>\n",
       "    <tr>\n",
       "      <th>2</th>\n",
       "      <td>0.234400</td>\n",
       "      <td>0.793749</td>\n",
       "      <td>0.000000</td>\n",
       "      <td>0.000000</td>\n",
       "      <td>0.000000</td>\n",
       "      <td>0.396875</td>\n",
       "      <td>0.396875</td>\n",
       "      <td>0.000000</td>\n",
       "    </tr>\n",
       "  </tbody>\n",
       "</table>\n",
       "</div>"
      ],
      "text/plain": [
       "      동물원에서      바나나를        봤어        오늘      원숭이를     원숭이에게        줬어  \\\n",
       "0  0.373119  0.000000  0.480458  0.480458  0.631745  0.000000  0.000000   \n",
       "1  0.286801  0.000000  0.738616  0.369308  0.000000  0.000000  0.000000   \n",
       "2  0.234400  0.793749  0.000000  0.000000  0.000000  0.396875  0.396875   \n",
       "\n",
       "       코끼리를  \n",
       "0  0.000000  \n",
       "1  0.485596  \n",
       "2  0.000000  "
      ]
     },
     "execution_count": 28,
     "metadata": {},
     "output_type": "execute_result"
    }
   ],
   "source": [
    "import pandas as pd\n",
    "vocab = count_vect.get_feature_names()\n",
    "pd.DataFrame(tfidf.todense(), columns=vocab)"
   ]
  },
  {
   "cell_type": "code",
   "execution_count": null,
   "metadata": {},
   "outputs": [],
   "source": []
  }
 ],
 "metadata": {
  "kernelspec": {
   "display_name": "Python 3",
   "language": "python",
   "name": "python3"
  },
  "language_info": {
   "codemirror_mode": {
    "name": "ipython",
    "version": 3
   },
   "file_extension": ".py",
   "mimetype": "text/x-python",
   "name": "python",
   "nbconvert_exporter": "python",
   "pygments_lexer": "ipython3",
   "version": "3.7.9"
  }
 },
 "nbformat": 4,
 "nbformat_minor": 4
}
