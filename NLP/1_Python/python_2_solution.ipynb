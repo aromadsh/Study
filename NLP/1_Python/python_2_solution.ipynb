{
 "cells": [
  {
   "cell_type": "markdown",
   "metadata": {},
   "source": [
    "### Exercise 20. 반복문\n",
    "* 1 ~ 10까지의 숫자에 대해 모두 더한 값을 출력하는 프로그램을 for 문을 사용하여 작성하세요."
   ]
  },
  {
   "cell_type": "code",
   "execution_count": 1,
   "metadata": {},
   "outputs": [
    {
     "name": "stdout",
     "output_type": "stream",
     "text": [
      "55\n"
     ]
    }
   ],
   "source": [
    "total = 0\n",
    "for i in range(1, 11):\n",
    "    total += i\n",
    "print(total)"
   ]
  },
  {
   "cell_type": "markdown",
   "metadata": {},
   "source": [
    "### Exercise 21. 반복문\n",
    "* 사용자로부터 2 ~ 9 사이의 숫자를 입력 받은 후, 해당 숫자에 대한 구구단을 출력하세요."
   ]
  },
  {
   "cell_type": "code",
   "execution_count": 2,
   "metadata": {},
   "outputs": [
    {
     "name": "stdin",
     "output_type": "stream",
     "text": [
      " 3\n"
     ]
    },
    {
     "name": "stdout",
     "output_type": "stream",
     "text": [
      "3 * 1 = 3\n",
      "3 * 2 = 6\n",
      "3 * 3 = 9\n",
      "3 * 4 = 12\n",
      "3 * 5 = 15\n",
      "3 * 6 = 18\n",
      "3 * 7 = 21\n",
      "3 * 8 = 24\n",
      "3 * 9 = 27\n"
     ]
    }
   ],
   "source": [
    "num = int(input())\n",
    "\n",
    "if num < 2 or num > 9 :\n",
    "    print(\"error!\")\n",
    "    exit()\n",
    "\n",
    "for i in range(1, 10):\n",
    "    print(\"{} * {} = {}\".format(num, i, num * i))"
   ]
  },
  {
   "cell_type": "markdown",
   "metadata": {},
   "source": []
  },
  {
   "cell_type": "markdown",
   "metadata": {},
   "source": [
    "### Exercise 22.  반복문과 문자열 다루기 (split)\n",
    "* 사용자로부터 , 로 구분된 여러 이름을 입력받아서, 한 줄에 하나씩 이름을 출력하세요<br>\n",
    "  - 사용자 입력: Dave,David,Andy,Arthor\n",
    "  - 출력 예:  <br>\n",
    "    Dave <br>\n",
    "    David <br>\n",
    "    Andy <br>\n",
    "    Arthor <br>    "
   ]
  },
  {
   "cell_type": "code",
   "execution_count": 3,
   "metadata": {},
   "outputs": [
    {
     "name": "stdin",
     "output_type": "stream",
     "text": [
      " Dave,David,Andy,Arthor\n"
     ]
    },
    {
     "name": "stdout",
     "output_type": "stream",
     "text": [
      "Dave\n",
      "David\n",
      "Andy\n",
      "Arthor\n"
     ]
    }
   ],
   "source": [
    "names = input()\n",
    "name_list = names.split(',')\n",
    "for name in name_list:\n",
    "    print(name)"
   ]
  },
  {
   "cell_type": "markdown",
   "metadata": {},
   "source": [
    "### Exercise 23.  반복문과 문자열 다루기 (split)\n",
    "* 사용자로부터 [이름1],[이름2],[이름3] 과 같은 형식으로 데이터를 입력받아서, 한 줄에 하나씩 이름을 출력하세요<br>\n",
    "  - 사용자 입력: [Dave],[David],[Andy],[Arthor]\n",
    "  - 출력 예:  <br>\n",
    "    Dave <br>\n",
    "    David <br>\n",
    "    Andy <br>\n",
    "    Arthor <br>   "
   ]
  },
  {
   "cell_type": "code",
   "execution_count": 6,
   "metadata": {},
   "outputs": [
    {
     "name": "stdin",
     "output_type": "stream",
     "text": [
      " [Dave],[David],[Andy],[Arthor]\n"
     ]
    },
    {
     "name": "stdout",
     "output_type": "stream",
     "text": [
      "Dave\n",
      "Dave\n",
      "David\n",
      "David\n",
      "Andy\n",
      "Andy\n",
      "Arthor\n",
      "Arthor\n"
     ]
    }
   ],
   "source": [
    "names = input()\n",
    "name_list = names.split(',')\n",
    "for name in name_list:\n",
    "    print(name.strip(\"[]\"))\n",
    "    print(name[1:-1])"
   ]
  },
  {
   "cell_type": "markdown",
   "metadata": {},
   "source": [
    "### Exercise 24. 반복문과 조건문\n",
    "* 1부터 30까지의 숫자 중 3의 배수만 출력하세요."
   ]
  },
  {
   "cell_type": "code",
   "execution_count": 7,
   "metadata": {
    "scrolled": true
   },
   "outputs": [
    {
     "name": "stdout",
     "output_type": "stream",
     "text": [
      "3\n",
      "6\n",
      "9\n",
      "12\n",
      "15\n",
      "18\n",
      "21\n",
      "24\n",
      "27\n",
      "30\n"
     ]
    }
   ],
   "source": [
    "for i in range(1, 31):\n",
    "    if i % 3 == 0:\n",
    "        print(i)"
   ]
  },
  {
   "cell_type": "markdown",
   "metadata": {},
   "source": [
    "### Exercise 25. 반복문 (while)\n",
    "* 1부터 100까지 숫자를 모두 더한 값을 출력하세요.\n",
    "  - 단 while 구문을 사용해서 작성하세요."
   ]
  },
  {
   "cell_type": "code",
   "execution_count": 10,
   "metadata": {},
   "outputs": [
    {
     "name": "stdout",
     "output_type": "stream",
     "text": [
      "5050\n"
     ]
    }
   ],
   "source": [
    "total = 0\n",
    "i = 0\n",
    "while i < 100:\n",
    "    total += (i + 1)\n",
    "    i += 1\n",
    "print(total)"
   ]
  },
  {
   "cell_type": "markdown",
   "metadata": {},
   "source": [
    "### Exercise 26. 반복문 (while)\n",
    "* 사용자로부터 4자리의 숫자로 구성된 데이터를 입력받아서 \n",
    "  + 비밀번호와 같으면 '비밀번호가 맞습니다.'를 출력하고 종료하세요. \n",
    "  + 비밀번호와 다르면 '비밀번호가 틀렸습니다.'를 출력하고 다시 사용자로부터 데이터를 입력받으세요.\n",
    "    - 비밀번호는 4312 입니다."
   ]
  },
  {
   "cell_type": "code",
   "execution_count": 11,
   "metadata": {},
   "outputs": [
    {
     "name": "stdin",
     "output_type": "stream",
     "text": [
      " 2345\n"
     ]
    },
    {
     "name": "stdout",
     "output_type": "stream",
     "text": [
      "비밀번호가 틀렸습니다\n"
     ]
    },
    {
     "name": "stdin",
     "output_type": "stream",
     "text": [
      " 1234\n"
     ]
    },
    {
     "name": "stdout",
     "output_type": "stream",
     "text": [
      "비밀번호가 틀렸습니다\n"
     ]
    },
    {
     "name": "stdin",
     "output_type": "stream",
     "text": [
      " 4312\n"
     ]
    },
    {
     "name": "stdout",
     "output_type": "stream",
     "text": [
      "비밀번호가 맞습니다.\n"
     ]
    }
   ],
   "source": [
    "passwd = input()\n",
    "\n",
    "while passwd != \"4312\":\n",
    "    print('비밀번호가 틀렸습니다')\n",
    "    passwd = input()\n",
    "    \n",
    "print(\"비밀번호가 맞습니다.\")\n"
   ]
  },
  {
   "cell_type": "markdown",
   "metadata": {},
   "source": [
    "### Exercise 27. 데이터 구조와 반복문 (리스트)\n",
    "* 다음 리스트 변수에서 음수 데이터를 삭제하고, 양수만 가진 리스트 변수로 만들고, 해당 변수를 출력하세요.\n",
    "\n",
    "```python\n",
    "num_list = [0, -11, 31, 22, -11, 33, -44, -55]\n",
    "```"
   ]
  },
  {
   "cell_type": "code",
   "execution_count": 15,
   "metadata": {},
   "outputs": [
    {
     "name": "stdout",
     "output_type": "stream",
     "text": [
      "[0, 31, 22, 33]\n",
      "[0, 31, 22, 33]\n"
     ]
    }
   ],
   "source": [
    "num_list = [0, -11, 31, 22, -11, 33, -44, -55]\n",
    "result = []\n",
    "\n",
    "for num in num_list:\n",
    "    if num >= 0:\n",
    "        result.append(num)\n",
    "print(result)\n",
    "\n",
    "print(list(filter(lambda num : num >= 0, num_list)))\n",
    "\n",
    "\n"
   ]
  },
  {
   "cell_type": "markdown",
   "metadata": {},
   "source": [
    "### Exercise 28.  데이터 구조와 반복문 (리스트)\n",
    "* 다음 리스트에 있는 데이터의 길이를 한 라인에 하나씩 출력하세요.\n",
    "\n",
    "```python\n",
    "list_data = [\"Linux\", \"Python\", \"javascript\", \"front-end\", \"back-end\", \"dataengineering\"]\n",
    "```"
   ]
  },
  {
   "cell_type": "code",
   "execution_count": 17,
   "metadata": {},
   "outputs": [
    {
     "name": "stdout",
     "output_type": "stream",
     "text": [
      "5\n",
      "6\n",
      "10\n",
      "9\n",
      "8\n",
      "15\n"
     ]
    }
   ],
   "source": [
    "list_data = [\"Linux\", \"Python\", \"javascript\", \"front-end\", \"back-end\", \"dataengineering\"]\n",
    "for data in list_data:\n",
    "    print(len(data))"
   ]
  },
  {
   "cell_type": "markdown",
   "metadata": {},
   "source": [
    "### Exercise 29. 데이터 구조와 반복문 (리스트)\n",
    "* 다음 리스트에 있는 숫자를 역 방향으로 출력하세요.\n",
    "  - 단, 리스트에 있는 숫자들은 한 라인에 하나씩 출력하세요.\n",
    "```python\n",
    "data = [1, 2, 3, 4, 5, 6, 7, 8, 9, 10]\n",
    "```\n",
    "* 실행 예:<br>\n",
    "10 <br>\n",
    "9 <br>\n",
    "8 <br>\n",
    "7 <br>\n",
    "6 <br>\n",
    "5 <br>\n",
    "4 <br>\n",
    "3 <br>\n",
    "2 <br>\n",
    "1"
   ]
  },
  {
   "cell_type": "code",
   "execution_count": null,
   "metadata": {},
   "outputs": [],
   "source": []
  },
  {
   "cell_type": "code",
   "execution_count": 22,
   "metadata": {},
   "outputs": [
    {
     "name": "stdout",
     "output_type": "stream",
     "text": [
      "10\n",
      "9\n",
      "8\n",
      "7\n",
      "6\n",
      "5\n",
      "4\n",
      "3\n",
      "2\n",
      "1\n",
      "10\n",
      "9\n",
      "8\n",
      "7\n",
      "6\n",
      "5\n",
      "4\n",
      "3\n",
      "2\n",
      "1\n"
     ]
    }
   ],
   "source": [
    "data = [1, 2, 3, 4, 5, 6, 7, 8, 9, 10]\n",
    "data.reverse()\n",
    "for num in data:\n",
    "    print(num)\n",
    "\n",
    "data = [1, 2, 3, 4, 5, 6, 7, 8, 9, 10]\n",
    "data2 = data[::-1]\n",
    "for num in data2:\n",
    "    print(num)\n"
   ]
  },
  {
   "cell_type": "code",
   "execution_count": 41,
   "metadata": {},
   "outputs": [
    {
     "name": "stdout",
     "output_type": "stream",
     "text": [
      "1\n",
      "9\n",
      "8\n",
      "7\n",
      "6\n",
      "5\n",
      "4\n",
      "3\n",
      "2\n",
      "1\n"
     ]
    }
   ],
   "source": [
    "data = [1, 2, 3, 4, 5, 6, 7, 8, 9, 10]\n",
    "for i in data:\n",
    "    data.sort(reverse=True)\n",
    "    print(i)\n"
   ]
  },
  {
   "cell_type": "markdown",
   "metadata": {},
   "source": [
    "### Exercise 30. 데이터 구조 (리스트), 반복문, 문자열 다루기\n",
    "* 다음과 같이 파일 이름(확장자 포함) 저장하고 있는 리스트가 있을 때 확장자를 제거하고 파일 이름만 출력하세요.\n",
    "\n",
    "```python\n",
    "filelist = ['exercise01.docx', 'exercise02.docx', 'exercise03.docx', 'exercise04.docx', 'exercise05.docx']\n",
    "```"
   ]
  },
  {
   "cell_type": "code",
   "execution_count": 24,
   "metadata": {},
   "outputs": [
    {
     "name": "stdout",
     "output_type": "stream",
     "text": [
      "exercise01\n",
      "exercise02\n",
      "exercise03\n",
      "exercise04\n",
      "exercise05\n"
     ]
    }
   ],
   "source": [
    "filelist = ['exercise01.docx', 'exercise02.docx', 'exercise03.docx', 'exercise04.docx', 'exercise05.docx']\n",
    "for file in filelist:\n",
    "    print(file.split('.')[0])"
   ]
  },
  {
   "cell_type": "markdown",
   "metadata": {},
   "source": [
    "### Exercise 31. 데이터 구조 (리스트), 반복문, 조건문, 문자열 다루기\n",
    "* 파일 이름이 다음과 같은 리스트에 저장되어 있을 때 확장자가 .txt 인 파일에 대한 리스트를 출력하라\n",
    "\n",
    "```python\n",
    "filelist = ['exercise01.docx', 'exercise02.csv', 'exercise03.txt', 'exercise04.hwp']\n",
    "```"
   ]
  },
  {
   "cell_type": "code",
   "execution_count": 26,
   "metadata": {},
   "outputs": [
    {
     "name": "stdout",
     "output_type": "stream",
     "text": [
      "['exercise03.txt']\n",
      "['exercise03.txt']\n"
     ]
    }
   ],
   "source": [
    "filelist = ['exercise01.docx', 'exercise02.csv', 'exercise03.txt', 'exercise04.hwp']\n",
    "txt_list = []\n",
    "for file in filelist:\n",
    "    if file.split('.')[1] == 'txt':\n",
    "        txt_list.append(file)\n",
    "print(txt_list)\n",
    "\n",
    "print([file for file in filelist if file.split('.')[1] == 'txt'])"
   ]
  },
  {
   "cell_type": "markdown",
   "metadata": {},
   "source": [
    "### Exercise 32. 문자열 다루기와 조건문\n",
    "* prices 변수에 100 ~ 999 달러 까지 입력될 때, 해당 값을 원 화로 바꿔서 계산하세요.\n",
    "\n",
    "```python\n",
    "prices = '100 달러'\n",
    "```\n",
    "\n",
    "* 환율은 다음과 같음\n",
    "<table>\n",
    "<thead>\n",
    "<tr>\n",
    "<th>통화단위</th>\n",
    "<th>원화 환율</th>\n",
    "</tr>\n",
    "</thead>\n",
    "<tbody>\n",
    "<tr>\n",
    "<td>달러</td>\n",
    "<td>1112</td>\n",
    "</tr>\n",
    "</tbody>\n",
    "</table>\n",
    "\n",
    "출력: <br>\n",
    "111200 원"
   ]
  },
  {
   "cell_type": "code",
   "execution_count": 29,
   "metadata": {},
   "outputs": [
    {
     "name": "stdin",
     "output_type": "stream",
     "text": [
      " 100 달러\n"
     ]
    },
    {
     "name": "stdout",
     "output_type": "stream",
     "text": [
      "111200 원\n"
     ]
    }
   ],
   "source": [
    "prices = input()\n",
    "print(int(prices[:4]) * 1112, '원')"
   ]
  },
  {
   "cell_type": "markdown",
   "metadata": {},
   "source": [
    "### Exercise 33. 문자열 다루기와 조건문\n",
    "* 사용자로부터 달러 또는 위안 금액을 입력받은 후 이를 원으로 바꿔서 계산하세요.\n",
    "  - 사용자는 100 ~ 999 달러, 100 ~ 999 위안 까지 입력 가능하고, 각 금액과 통화명 사이에 공백을 넣어 입력하기로 합니다.\n",
    "  - 각 통화별 환율은 다음과 같습니다.   \n",
    "<table>\n",
    "<thead>\n",
    "<tr>\n",
    "<th>통화단위</th>\n",
    "<th>원화 환율</th>\n",
    "</tr>\n",
    "</thead>\n",
    "<tbody>\n",
    "<tr>\n",
    "<td>달러</td>\n",
    "<td>1112</td>\n",
    "</tr>\n",
    "<tr>\n",
    "<td>위안</td>\n",
    "<td>171</td>\n",
    "</tr>\n",
    "</tbody>\n",
    "</table>\n",
    "\n",
    "\n",
    "출력: <br>\n",
    "111200 원"
   ]
  },
  {
   "cell_type": "code",
   "execution_count": 46,
   "metadata": {},
   "outputs": [
    {
     "name": "stdin",
     "output_type": "stream",
     "text": [
      " 100 위안\n"
     ]
    },
    {
     "name": "stdout",
     "output_type": "stream",
     "text": [
      "17100 원\n"
     ]
    }
   ],
   "source": [
    "price = input()\n",
    "currency = price[-2:]\n",
    "if currency == \"달러\":\n",
    "    print(int(price[:4]) * 1112, '원')\n",
    "elif currency == \"위안\":\n",
    "    print(int(price[:4]) * 171, '원')\n",
    "\n"
   ]
  },
  {
   "cell_type": "markdown",
   "metadata": {},
   "source": [
    "### Exercise 34. 문자열 다루기, 조건문, 데이터 구조 (dictionary)\n",
    "* 다음 통화별 환율을 통화단위와 원화 환율을 가진 딕셔너리로 만들고 사용자로부터 달러, 엔, 또는 위안 금액을 입력받은 후 이를 원으로 바꿔서 계산하세요.\n",
    "  - 사용자는 100 ~ 999 달러, 위안, 또는 엔 과 같이 금액과 통화명 사이에 공백을 넣어 입력하기로 합니다.\n",
    "<table>\n",
    "<thead>\n",
    "<tr>\n",
    "<th>통화단위</th>\n",
    "<th>원화 환율</th>\n",
    "</tr>\n",
    "</thead>\n",
    "<tbody>\n",
    "<tr>\n",
    "<td>달러</td>\n",
    "<td>1112</td>\n",
    "</tr>\n",
    "<tr>\n",
    "<td>위안</td>\n",
    "<td>171</td>\n",
    "</tr>\n",
    "<tr>\n",
    "<td>엔</td>\n",
    "<td>1010</td>\n",
    "</tr>\n",
    "</tbody>\n",
    "</table>\n"
   ]
  },
  {
   "cell_type": "code",
   "execution_count": 47,
   "metadata": {},
   "outputs": [
    {
     "name": "stdin",
     "output_type": "stream",
     "text": [
      " 100 엔\n"
     ]
    },
    {
     "name": "stdout",
     "output_type": "stream",
     "text": [
      "101000 원\n"
     ]
    }
   ],
   "source": [
    "\n",
    "currency_table = {'달러': 1112, '위안':171, '엔':1010}\n",
    "price = input()\n",
    "currency = price[4:]\n",
    "\n",
    "print(int(price[:4]) * currency_table[currency], '원')"
   ]
  },
  {
   "cell_type": "markdown",
   "metadata": {},
   "source": [
    "### Exercise 35. 이중 반복문\n",
    "* 구구단을 2단부터 9단까지 다음과 같이 출력하세요\n",
    "  - 출력 예\n",
    "<pre>\n",
    "2 X 1 = 2\n",
    "2 X 2 = 4\n",
    "2 X 3 = 6\n",
    "2 X 4 = 8\n",
    "2 X 5 = 10\n",
    "2 X 6 = 12\n",
    "2 X 7 = 14\n",
    "2 X 8 = 16\n",
    "2 X 9 = 18\n",
    "3 X 1 = 3\n",
    "3 X 2 = 6\n",
    ".\n",
    ".\n",
    ".\n",
    "9 X 7 = 63\n",
    "9 X 8 = 72\n",
    "9 X 9 = 81\n",
    "</pre>"
   ]
  },
  {
   "cell_type": "code",
   "execution_count": 48,
   "metadata": {},
   "outputs": [
    {
     "name": "stdout",
     "output_type": "stream",
     "text": [
      "2 x 1 = 2\n",
      "2 x 2 = 4\n",
      "2 x 3 = 6\n",
      "2 x 4 = 8\n",
      "2 x 5 = 10\n",
      "2 x 6 = 12\n",
      "2 x 7 = 14\n",
      "2 x 8 = 16\n",
      "2 x 9 = 18\n",
      "3 x 1 = 3\n",
      "3 x 2 = 6\n",
      "3 x 3 = 9\n",
      "3 x 4 = 12\n",
      "3 x 5 = 15\n",
      "3 x 6 = 18\n",
      "3 x 7 = 21\n",
      "3 x 8 = 24\n",
      "3 x 9 = 27\n",
      "4 x 1 = 4\n",
      "4 x 2 = 8\n",
      "4 x 3 = 12\n",
      "4 x 4 = 16\n",
      "4 x 5 = 20\n",
      "4 x 6 = 24\n",
      "4 x 7 = 28\n",
      "4 x 8 = 32\n",
      "4 x 9 = 36\n",
      "5 x 1 = 5\n",
      "5 x 2 = 10\n",
      "5 x 3 = 15\n",
      "5 x 4 = 20\n",
      "5 x 5 = 25\n",
      "5 x 6 = 30\n",
      "5 x 7 = 35\n",
      "5 x 8 = 40\n",
      "5 x 9 = 45\n",
      "6 x 1 = 6\n",
      "6 x 2 = 12\n",
      "6 x 3 = 18\n",
      "6 x 4 = 24\n",
      "6 x 5 = 30\n",
      "6 x 6 = 36\n",
      "6 x 7 = 42\n",
      "6 x 8 = 48\n",
      "6 x 9 = 54\n",
      "7 x 1 = 7\n",
      "7 x 2 = 14\n",
      "7 x 3 = 21\n",
      "7 x 4 = 28\n",
      "7 x 5 = 35\n",
      "7 x 6 = 42\n",
      "7 x 7 = 49\n",
      "7 x 8 = 56\n",
      "7 x 9 = 63\n",
      "8 x 1 = 8\n",
      "8 x 2 = 16\n",
      "8 x 3 = 24\n",
      "8 x 4 = 32\n",
      "8 x 5 = 40\n",
      "8 x 6 = 48\n",
      "8 x 7 = 56\n",
      "8 x 8 = 64\n",
      "8 x 9 = 72\n",
      "9 x 1 = 9\n",
      "9 x 2 = 18\n",
      "9 x 3 = 27\n",
      "9 x 4 = 36\n",
      "9 x 5 = 45\n",
      "9 x 6 = 54\n",
      "9 x 7 = 63\n",
      "9 x 8 = 72\n",
      "9 x 9 = 81\n"
     ]
    }
   ],
   "source": [
    "for dan in range(2, 10):\n",
    "    for num in range(1, 10):\n",
    "        print(f\"{dan} x {num} = {dan * num}\")"
   ]
  },
  {
   "cell_type": "markdown",
   "metadata": {},
   "source": [
    "### Exercise 36. 이중 반복문과 조건문\n",
    "* 구구단을 2단부터 9단까지 출력하되, 계산 값이 짝수인 경우에만 출력하세요\n",
    "  - 예: 3 X 3 = 9 에서 9는 홀수이므로 출력하지 않는다.\n",
    "  - 예: 2 X 4 = 8 에서 8은 짝수이므로 출력한다.\n",
    "  - 최종 출력 예\n",
    "<pre>\n",
    "2 X 2 = 4\n",
    "2 X 3 = 6\n",
    "2 X 4 = 8\n",
    "2 X 5 = 10\n",
    "2 X 6 = 12\n",
    "2 X 7 = 14\n",
    "2 X 8 = 16\n",
    "2 X 9 = 18\n",
    "3 X 2 = 6\n",
    "3 X 4 = 12\n",
    "3 X 6 = 18\n",
    "3 X 8 = 24\n",
    "4 X 2 = 8\n",
    "4 X 3 = 12\n",
    "4 X 4 = 16\n",
    "4 X 5 = 20\n",
    "4 X 6 = 24\n",
    "4 X 7 = 28\n",
    "4 X 8 = 32\n",
    "4 X 9 = 36\n",
    "5 X 2 = 10\n",
    "5 X 4 = 20\n",
    "5 X 6 = 30\n",
    "5 X 8 = 40\n",
    "6 X 2 = 12\n",
    "6 X 3 = 18\n",
    "6 X 4 = 24\n",
    "6 X 5 = 30\n",
    "6 X 6 = 36\n",
    "6 X 7 = 42\n",
    "6 X 8 = 48\n",
    "6 X 9 = 54\n",
    "7 X 2 = 14\n",
    "7 X 4 = 28\n",
    "7 X 6 = 42\n",
    "7 X 8 = 56\n",
    "8 X 2 = 16\n",
    "8 X 3 = 24\n",
    "8 X 4 = 32\n",
    "8 X 5 = 40\n",
    "8 X 6 = 48\n",
    "8 X 7 = 56\n",
    "8 X 8 = 64\n",
    "8 X 9 = 72\n",
    "9 X 2 = 18\n",
    "9 X 4 = 36\n",
    "9 X 6 = 54\n",
    "9 X 8 = 72\n",
    "</pre>"
   ]
  },
  {
   "cell_type": "code",
   "execution_count": 49,
   "metadata": {},
   "outputs": [
    {
     "name": "stdout",
     "output_type": "stream",
     "text": [
      "2 x 1 = 2\n",
      "2 x 2 = 4\n",
      "2 x 3 = 6\n",
      "2 x 4 = 8\n",
      "2 x 5 = 10\n",
      "2 x 6 = 12\n",
      "2 x 7 = 14\n",
      "2 x 8 = 16\n",
      "2 x 9 = 18\n",
      "3 x 2 = 6\n",
      "3 x 4 = 12\n",
      "3 x 6 = 18\n",
      "3 x 8 = 24\n",
      "4 x 1 = 4\n",
      "4 x 2 = 8\n",
      "4 x 3 = 12\n",
      "4 x 4 = 16\n",
      "4 x 5 = 20\n",
      "4 x 6 = 24\n",
      "4 x 7 = 28\n",
      "4 x 8 = 32\n",
      "4 x 9 = 36\n",
      "5 x 2 = 10\n",
      "5 x 4 = 20\n",
      "5 x 6 = 30\n",
      "5 x 8 = 40\n",
      "6 x 1 = 6\n",
      "6 x 2 = 12\n",
      "6 x 3 = 18\n",
      "6 x 4 = 24\n",
      "6 x 5 = 30\n",
      "6 x 6 = 36\n",
      "6 x 7 = 42\n",
      "6 x 8 = 48\n",
      "6 x 9 = 54\n",
      "7 x 2 = 14\n",
      "7 x 4 = 28\n",
      "7 x 6 = 42\n",
      "7 x 8 = 56\n",
      "8 x 1 = 8\n",
      "8 x 2 = 16\n",
      "8 x 3 = 24\n",
      "8 x 4 = 32\n",
      "8 x 5 = 40\n",
      "8 x 6 = 48\n",
      "8 x 7 = 56\n",
      "8 x 8 = 64\n",
      "8 x 9 = 72\n",
      "9 x 2 = 18\n",
      "9 x 4 = 36\n",
      "9 x 6 = 54\n",
      "9 x 8 = 72\n"
     ]
    }
   ],
   "source": [
    "for dan in range(2, 10):\n",
    "    for num in range(1, 10):\n",
    "        if dan * num % 2 == 0:\n",
    "            print(f\"{dan} x {num} = {dan * num}\")"
   ]
  },
  {
   "cell_type": "markdown",
   "metadata": {},
   "source": [
    "### Exercise 37. 이중 반복문과 데이터 구조 (리스트)\n",
    "* 아파트 동호수를 다음과 같은 두 리스트 변수를 활용해서 출력하세요.\n",
    "  - 단, 각 동과 동 사이에는 구분이 되도록 한 라인씩 띄워서 출력하세요\n",
    "\n",
    "<pre>\n",
    "dongs = [\"6209동\", \"6208동\", \"6207동\"]\n",
    "hos = [\"101호\", \"102호\", \"103호\", \"104호\"]\n",
    "</pre>\n",
    "\n",
    "  - 출력 예:\n",
    "<pre>\n",
    "6209동 101호\n",
    "6209동 102호\n",
    "6209동 103호\n",
    "6209동 104호\n",
    "</pre>\n",
    "<pre>\n",
    "6208동 101호\n",
    "6208동 102호\n",
    "6208동 103호\n",
    "6208동 104호\n",
    "</pre>\n",
    "<pre>\n",
    "6207동 101호\n",
    "6207동 102호\n",
    "6207동 103호\n",
    "6207동 104호\n",
    "</pre>"
   ]
  },
  {
   "cell_type": "code",
   "execution_count": 50,
   "metadata": {},
   "outputs": [
    {
     "name": "stdout",
     "output_type": "stream",
     "text": [
      "6209동 101호\n",
      "6209동 102호\n",
      "6209동 103호\n",
      "6209동 104호\n",
      "6208동 101호\n",
      "6208동 102호\n",
      "6208동 103호\n",
      "6208동 104호\n",
      "6207동 101호\n",
      "6207동 102호\n",
      "6207동 103호\n",
      "6207동 104호\n"
     ]
    }
   ],
   "source": [
    "dongs = [\"6209동\", \"6208동\", \"6207동\"]\n",
    "hos = [\"101호\", \"102호\", \"103호\", \"104호\"]\n",
    "\n",
    "for dong in dongs:\n",
    "    for ho in hos:\n",
    "        print(dong, ho)"
   ]
  },
  {
   "cell_type": "code",
   "execution_count": null,
   "metadata": {},
   "outputs": [],
   "source": []
  }
 ],
 "metadata": {
  "kernelspec": {
   "display_name": "Python 3",
   "language": "python",
   "name": "python3"
  },
  "language_info": {
   "codemirror_mode": {
    "name": "ipython",
    "version": 3
   },
   "file_extension": ".py",
   "mimetype": "text/x-python",
   "name": "python",
   "nbconvert_exporter": "python",
   "pygments_lexer": "ipython3",
   "version": "3.7.9"
  },
  "nbTranslate": {
   "displayLangs": [
    "*"
   ],
   "hotkey": "alt-t",
   "langInMainMenu": true,
   "sourceLang": "en",
   "targetLang": "fr",
   "useGoogleTranslate": true
  }
 },
 "nbformat": 4,
 "nbformat_minor": 4
}
