{
 "cells": [
  {
   "cell_type": "markdown",
   "metadata": {},
   "source": [
    "# 1. NUMPY\n",
    "- Numerical Python - 행렬 연산이나 다차원 배열을 편리하게 처리\n",
    "- 배열(array) 단위로 벡터, 행렬 연산등을 파이썬의 기본 리스트에 비해 빠르고 적은양의 메모리로 연산\n",
    "- 선형대수, 통계관련 빌트인 함수 내장\n",
    "- 브로드캐스트 지원 - 형태(차원)가 다른 행렬끼리의 계산"
   ]
  },
  {
   "cell_type": "code",
   "execution_count": 5,
   "metadata": {},
   "outputs": [],
   "source": [
    "import numpy as np"
   ]
  },
  {
   "cell_type": "markdown",
   "metadata": {},
   "source": [
    "### 1.1 NUMPY 사용하는 이유?\n",
    "\n",
    "###### 1.1.1 행렬합 구하기"
   ]
  },
  {
   "cell_type": "code",
   "execution_count": 2,
   "metadata": {},
   "outputs": [
    {
     "name": "stdout",
     "output_type": "stream",
     "text": [
      "[[6, 8], [10, 12]]\n"
     ]
    }
   ],
   "source": [
    "matrix_1 = [[1, 2], [3, 4]]\n",
    "matrix_2 = [[5, 6], [7, 8]]\n",
    "\n",
    "matrix_result = []\n",
    "for i in range(len(matrix_1)):\n",
    "    tmp = []\n",
    "    for j in range(len(matrix_2)) :\n",
    "        tmp.append(matrix_1[i][j] + matrix_2[i][j])\n",
    "    matrix_result.append(tmp)\n",
    "print(matrix_result)"
   ]
  },
  {
   "cell_type": "code",
   "execution_count": 3,
   "metadata": {},
   "outputs": [
    {
     "name": "stdout",
     "output_type": "stream",
     "text": [
      "[[ 6  8]\n",
      " [10 12]]\n"
     ]
    }
   ],
   "source": [
    "matrix_result = np.array(matrix_1) + np.array(matrix_2)\n",
    "print(matrix_result)"
   ]
  },
  {
   "cell_type": "markdown",
   "metadata": {},
   "source": [
    "###### 1.1.2 숫자 1씩 더하기"
   ]
  },
  {
   "cell_type": "code",
   "execution_count": 6,
   "metadata": {},
   "outputs": [
    {
     "name": "stdout",
     "output_type": "stream",
     "text": [
      "[[2, 3], [4, 5]]\n"
     ]
    }
   ],
   "source": [
    "matrix_1 = [[1, 2], [3, 4]]\n",
    "\n",
    "for i in range(len(matrix_1)) :\n",
    "    for j in range(len(matrix_2)) :\n",
    "        matrix_1[i][j] = matrix_1[i][j] + 1\n",
    "        \n",
    "print(matrix_1)"
   ]
  },
  {
   "cell_type": "markdown",
   "metadata": {},
   "source": [
    "###### 1.1.3 리스트와 넘파이 처리 속도 비교"
   ]
  },
  {
   "cell_type": "code",
   "execution_count": 5,
   "metadata": {},
   "outputs": [
    {
     "name": "stdout",
     "output_type": "stream",
     "text": [
      "리스트 걸린 시간 :  1.28096604347229\n",
      "Numpy 걸린 시간 :  0.13897156715393066\n",
      "Wall time: 1.93 s\n"
     ]
    }
   ],
   "source": [
    "%%time\n",
    "import time\n",
    "\n",
    "size = 10000000\n",
    "\n",
    "# list\n",
    "x = list(range(size))\n",
    "y = list(range(size))\n",
    "\n",
    "start_time = time.time()\n",
    "z = [x[i]+x[i] for i in range(size)]\n",
    "print(\"리스트 걸린 시간 : \", time.time() - start_time)\n",
    "\n",
    "#numpy\n",
    "import numpy as np\n",
    "x = np.arange(size)\n",
    "y = np.arange(size)\n",
    "\n",
    "start_time = time.time()\n",
    "z = x + y\n",
    "print(\"Numpy 걸린 시간 : \", time.time()-start_time)"
   ]
  },
  {
   "cell_type": "markdown",
   "metadata": {},
   "source": [
    "### 1.2 NUMPY 자료형\n",
    "\n",
    "**int** : 8bit, 16bit, 32bit, 64bit (부호가 있음, 비트수 만큼 크기를 가지는 정수형)<br>\n",
    "**uint** : 8bit, 16bit, 32bit, 64bit (부호가 없음, 비트수 만큼 크기를 가지는 정수형)<br>\n",
    "**float** : 16bit, 32bit, 64bit, 128bit (부호가 있음, 비트수 만큼 크기를 가지는 실수형)<br>\n",
    "\n",
    "**복소수형**<br>\n",
    "- complex64 : 두개의 32비트 부동소수점으로 표시되는 복소수\n",
    "- complex128 : 두개의 64비트 부동소수점으로 표시되는 복소수\n",
    "\n",
    "**bool** <br>\n",
    "True, False\n",
    "\n",
    "\n",
    "\n"
   ]
  },
  {
   "cell_type": "markdown",
   "metadata": {},
   "source": [
    "### 1.3 ndarray\n",
    "###### 1.3.1 넘파이 리스트 ndarray 만들기\n",
    "- np.array(데이터)\n",
    "- np.float32(데이터)\n",
    "- np.int_(데이터)"
   ]
  },
  {
   "cell_type": "code",
   "execution_count": 10,
   "metadata": {},
   "outputs": [
    {
     "name": "stdout",
     "output_type": "stream",
     "text": [
      "uint32\n",
      "int32\n",
      "float32\n"
     ]
    }
   ],
   "source": [
    "x = np.uint(32)\n",
    "print(x.dtype) # uint64\n",
    "\n",
    "x = np.array([1, 2, 3, 4])\n",
    "print(x.dtype) # int64\n",
    "\n",
    "x = np.float32([1, 2, 3, 4])\n",
    "print(x.dtype) #float32"
   ]
  },
  {
   "cell_type": "markdown",
   "metadata": {},
   "source": [
    "###### 1.3.2 타입설정\n",
    "- np.array(데이터, dtype=np.float32)"
   ]
  },
  {
   "cell_type": "code",
   "execution_count": 12,
   "metadata": {},
   "outputs": [
    {
     "name": "stdout",
     "output_type": "stream",
     "text": [
      "float32\n"
     ]
    }
   ],
   "source": [
    "np.array([1, 2, 3, 4], dtype=np.float32)\n",
    "print(x.dtype) #float32"
   ]
  },
  {
   "cell_type": "markdown",
   "metadata": {},
   "source": [
    "###### 1.3.3 형변환\n",
    "- np.int32(ndarray)"
   ]
  },
  {
   "cell_type": "code",
   "execution_count": 3,
   "metadata": {},
   "outputs": [
    {
     "data": {
      "text/plain": [
       "array([1, 2, 3, 4])"
      ]
     },
     "execution_count": 3,
     "metadata": {},
     "output_type": "execute_result"
    }
   ],
   "source": [
    "np.int32(np.array([1.5, 2.2, 3.45, 4.86]))"
   ]
  },
  {
   "cell_type": "markdown",
   "metadata": {},
   "source": [
    "###### 1.3.4 타입체크\n",
    "- ndarray.dtype<br>\n",
    "    np.issubdtype(ndarray.dtype, np.floating)"
   ]
  },
  {
   "cell_type": "code",
   "execution_count": 6,
   "metadata": {},
   "outputs": [
    {
     "name": "stdout",
     "output_type": "stream",
     "text": [
      "int32\n"
     ]
    },
    {
     "data": {
      "text/plain": [
       "True"
      ]
     },
     "execution_count": 6,
     "metadata": {},
     "output_type": "execute_result"
    }
   ],
   "source": [
    "x = np.int32(x)\n",
    "print(x.dtype)\n",
    "np.issubdtype(x.dtype, np.int32) #float32"
   ]
  },
  {
   "cell_type": "markdown",
   "metadata": {},
   "source": [
    "### 1.4 다차원 ndarray\n",
    "\n",
    "###### 1.4.1 0차원"
   ]
  },
  {
   "cell_type": "code",
   "execution_count": 7,
   "metadata": {},
   "outputs": [
    {
     "name": "stdout",
     "output_type": "stream",
     "text": [
      "()\n",
      "0\n",
      "1\n"
     ]
    }
   ],
   "source": [
    "x = np.array(1)\n",
    "print(x.shape)\n",
    "print(x.ndim)\n",
    "print(x.size)"
   ]
  },
  {
   "cell_type": "markdown",
   "metadata": {},
   "source": [
    "###### 1.4.2 1 차원"
   ]
  },
  {
   "cell_type": "code",
   "execution_count": 8,
   "metadata": {},
   "outputs": [
    {
     "name": "stdout",
     "output_type": "stream",
     "text": [
      "(2,)\n",
      "1\n",
      "2\n"
     ]
    }
   ],
   "source": [
    "x = np.array([1, 2])\n",
    "print(x.shape)\n",
    "print(x.ndim)\n",
    "print(x.size)"
   ]
  },
  {
   "cell_type": "markdown",
   "metadata": {},
   "source": [
    "###### 1.4.3 2차원 혹은 그 이상"
   ]
  },
  {
   "cell_type": "code",
   "execution_count": 9,
   "metadata": {},
   "outputs": [
    {
     "name": "stdout",
     "output_type": "stream",
     "text": [
      "(2, 3)\n",
      "2\n",
      "6\n"
     ]
    }
   ],
   "source": [
    "x = np.array([[1, 2, 3], [4, 5, 6]])\n",
    "print(x.shape)\n",
    "print(x.ndim)\n",
    "print(x.size)"
   ]
  },
  {
   "cell_type": "markdown",
   "metadata": {},
   "source": [
    "###### 1.4.4 차원확인"
   ]
  },
  {
   "cell_type": "code",
   "execution_count": 12,
   "metadata": {},
   "outputs": [
    {
     "name": "stdout",
     "output_type": "stream",
     "text": [
      "(3, 4)\n",
      "2\n",
      "12\n"
     ]
    }
   ],
   "source": [
    "x = np.array([[1, 2, 3, 4], [5, 6, 7, 8], [9, 10, 11, 12]])\n",
    "print(x.shape)\n",
    "print(x.ndim)\n",
    "print(x.size)"
   ]
  },
  {
   "cell_type": "markdown",
   "metadata": {},
   "source": [
    "### 1.5 arange\n",
    "- 파이썬의 range 와 비슷\n",
    "\n"
   ]
  },
  {
   "cell_type": "code",
   "execution_count": 14,
   "metadata": {},
   "outputs": [
    {
     "name": "stdout",
     "output_type": "stream",
     "text": [
      "[0 1 2 3 4 5 6 7 8 9]\n"
     ]
    }
   ],
   "source": [
    "x = np.arange(10)\n",
    "print(x)"
   ]
  },
  {
   "cell_type": "code",
   "execution_count": 15,
   "metadata": {},
   "outputs": [
    {
     "name": "stdout",
     "output_type": "stream",
     "text": [
      "[0. 1. 2. 3. 4. 5. 6. 7. 8. 9.]\n"
     ]
    }
   ],
   "source": [
    "x = np.arange(10.0)\n",
    "print(x)"
   ]
  },
  {
   "cell_type": "code",
   "execution_count": 18,
   "metadata": {},
   "outputs": [
    {
     "name": "stdout",
     "output_type": "stream",
     "text": [
      "[1 3 5 7 9]\n"
     ]
    }
   ],
   "source": [
    "x = np.arange(1, 10, 2)\n",
    "print(x)"
   ]
  },
  {
   "cell_type": "code",
   "execution_count": 19,
   "metadata": {},
   "outputs": [
    {
     "name": "stdout",
     "output_type": "stream",
     "text": [
      "[1.  1.5 2.  2.5 3.  3.5 4.  4.5 5.  5.5 6.  6.5 7.  7.5 8.  8.5 9.  9.5]\n"
     ]
    }
   ],
   "source": [
    "x = np.arange(1, 10, 0.5)\n",
    "print(x)"
   ]
  },
  {
   "cell_type": "code",
   "execution_count": 20,
   "metadata": {},
   "outputs": [
    {
     "name": "stdout",
     "output_type": "stream",
     "text": [
      "[10.   9.5  9.   8.5  8.   7.5  7.   6.5  6.   5.5  5.   4.5  4.   3.5\n",
      "  3.   2.5  2.   1.5]\n"
     ]
    }
   ],
   "source": [
    "x = np.arange(10, 1, -0.5)\n",
    "print(x)"
   ]
  },
  {
   "cell_type": "markdown",
   "metadata": {},
   "source": [
    "### 1.6 linspace\n",
    "- 균일한 간격으로 리스트 크기만큼의 리스트 생성\n",
    "\n",
    "###### 1.6.1 np.linspace(시작값, 끝값, 벡터크기)"
   ]
  },
  {
   "cell_type": "code",
   "execution_count": 21,
   "metadata": {},
   "outputs": [
    {
     "name": "stdout",
     "output_type": "stream",
     "text": [
      "[ 1.    5.75 10.5  15.25 20.  ]\n"
     ]
    }
   ],
   "source": [
    "x = np.linspace(1, 20, 5)\n",
    "print(x)"
   ]
  },
  {
   "cell_type": "markdown",
   "metadata": {},
   "source": [
    "###### 1.6.2 np.linspace(시작값, 끝값, 벡터크기, endpoint=False) <br>\n",
    "끝값 포함여부"
   ]
  },
  {
   "cell_type": "code",
   "execution_count": 22,
   "metadata": {},
   "outputs": [
    {
     "name": "stdout",
     "output_type": "stream",
     "text": [
      "[ 1.   2.9  4.8  6.7  8.6 10.5 12.4 14.3 16.2 18.1]\n"
     ]
    }
   ],
   "source": [
    "x = np.linspace(1, 20, 10, endpoint=False)\n",
    "print(x)"
   ]
  },
  {
   "cell_type": "code",
   "execution_count": 48,
   "metadata": {},
   "outputs": [
    {
     "data": {
      "text/plain": [
       "array([ 1.  ,  5.75, 10.5 , 15.25, 20.  ])"
      ]
     },
     "execution_count": 48,
     "metadata": {},
     "output_type": "execute_result"
    }
   ],
   "source": [
    "x=np.linspace(1, 20, 5)\n",
    "x"
   ]
  },
  {
   "cell_type": "code",
   "execution_count": 4,
   "metadata": {},
   "outputs": [
    {
     "name": "stdout",
     "output_type": "stream",
     "text": [
      "[ 1.   2.9  4.8  6.7  8.6 10.5 12.4 14.3 16.2 18.1]\n"
     ]
    }
   ],
   "source": [
    "x = np.linspace(1, 20, 10, endpoint=False)\n",
    "print(x)"
   ]
  },
  {
   "cell_type": "markdown",
   "metadata": {},
   "source": [
    "### 1.7 reshape\n",
    "- 데이터를 유지하면서 차원의 형태를 변경\n",
    "\n",
    "###### 1.7.1 ndarray.reshape(3, 3)\n",
    "###### 1.7.2 ndarray.reshape(2, 3, 4)\n",
    "###### 1.7.3 ndarray.reshape(2, 2, 2, 2)"
   ]
  },
  {
   "cell_type": "code",
   "execution_count": 7,
   "metadata": {},
   "outputs": [
    {
     "data": {
      "text/plain": [
       "array([[1, 2, 3],\n",
       "       [4, 5, 6]])"
      ]
     },
     "execution_count": 7,
     "metadata": {},
     "output_type": "execute_result"
    }
   ],
   "source": [
    "np.array([[1, 2],[3, 4], [5, 6]]).reshape(2, 3)"
   ]
  },
  {
   "cell_type": "markdown",
   "metadata": {},
   "source": [
    "- -1 일 경우 자동으로 맞춰서 생성<br>\n",
    "ndarray.reshape(3, -1)"
   ]
  },
  {
   "cell_type": "code",
   "execution_count": 11,
   "metadata": {},
   "outputs": [
    {
     "name": "stdout",
     "output_type": "stream",
     "text": [
      "[[0 1 2]\n",
      " [3 4 5]\n",
      " [6 7 8]]\n"
     ]
    }
   ],
   "source": [
    "x = np.arange(9).reshape(3, 3)\n",
    "print(x) # 2차원"
   ]
  },
  {
   "cell_type": "code",
   "execution_count": 12,
   "metadata": {},
   "outputs": [
    {
     "name": "stdout",
     "output_type": "stream",
     "text": [
      "[[[ 0  1  2  3]\n",
      "  [ 4  5  6  7]\n",
      "  [ 8  9 10 11]]\n",
      "\n",
      " [[12 13 14 15]\n",
      "  [16 17 18 19]\n",
      "  [20 21 22 23]]]\n"
     ]
    }
   ],
   "source": [
    "x = np.arange(24).reshape(2, 3, 4)\n",
    "print(x) # 3차원"
   ]
  },
  {
   "cell_type": "code",
   "execution_count": 13,
   "metadata": {},
   "outputs": [
    {
     "name": "stdout",
     "output_type": "stream",
     "text": [
      "[[[[ 0  1]\n",
      "   [ 2  3]]\n",
      "\n",
      "  [[ 4  5]\n",
      "   [ 6  7]]]\n",
      "\n",
      "\n",
      " [[[ 8  9]\n",
      "   [10 11]]\n",
      "\n",
      "  [[12 13]\n",
      "   [14 15]]]]\n"
     ]
    }
   ],
   "source": [
    "x = np.arange(16).reshape(2, 2, 2, 2)\n",
    "print(x) # 4차원"
   ]
  },
  {
   "cell_type": "code",
   "execution_count": 16,
   "metadata": {},
   "outputs": [
    {
     "name": "stdout",
     "output_type": "stream",
     "text": [
      "[[1 2]\n",
      " [3 4]\n",
      " [5 6]]\n",
      "2차원 형태 변형\n",
      "[[1 2 3]\n",
      " [4 5 6]]\n"
     ]
    }
   ],
   "source": [
    "x = np.array([[1, 2], [3, 4], [5, 6]])\n",
    "print(x)\n",
    "print(\"2차원 형태 변형\")\n",
    "print(x.reshape(2, 3)) # 데이터를 유지하고 형태변경"
   ]
  },
  {
   "cell_type": "code",
   "execution_count": 18,
   "metadata": {},
   "outputs": [
    {
     "name": "stdout",
     "output_type": "stream",
     "text": [
      "[[0 1 2]\n",
      " [3 4 5]\n",
      " [6 7 8]]\n"
     ]
    }
   ],
   "source": [
    "x = np.arange(9).reshape(3, -1)\n",
    "print(x) # 개수에 맞춰 생성"
   ]
  },
  {
   "cell_type": "code",
   "execution_count": null,
   "metadata": {},
   "outputs": [],
   "source": []
  }
 ],
 "metadata": {
  "kernelspec": {
   "display_name": "Python 3",
   "language": "python",
   "name": "python3"
  },
  "language_info": {
   "codemirror_mode": {
    "name": "ipython",
    "version": 3
   },
   "file_extension": ".py",
   "mimetype": "text/x-python",
   "name": "python",
   "nbconvert_exporter": "python",
   "pygments_lexer": "ipython3",
   "version": "3.7.9"
  }
 },
 "nbformat": 4,
 "nbformat_minor": 4
}
