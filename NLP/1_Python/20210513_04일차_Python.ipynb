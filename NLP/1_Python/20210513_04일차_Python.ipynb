{
 "cells": [
  {
   "cell_type": "markdown",
   "metadata": {},
   "source": [
    "# 13. 리스트 응용\n",
    "### 13.1 리스트의 가장 큰 수, 가장 작은 수 구하기\n",
    "###### 13.1.1 max, min"
   ]
  },
  {
   "cell_type": "code",
   "execution_count": 3,
   "metadata": {},
   "outputs": [
    {
     "name": "stdout",
     "output_type": "stream",
     "text": [
      "2\n"
     ]
    }
   ],
   "source": [
    "a=[32, 45, 2, 5, 76]\n",
    "\n",
    "small = a[0]\n",
    "for i in a :\n",
    "    if i<small :\n",
    "        small = i\n",
    "print(small)"
   ]
  },
  {
   "cell_type": "code",
   "execution_count": 4,
   "metadata": {},
   "outputs": [
    {
     "name": "stdout",
     "output_type": "stream",
     "text": [
      "76\n"
     ]
    }
   ],
   "source": [
    "a=[32, 45, 2, 5, 76]\n",
    "\n",
    "large = a[0]\n",
    "for i in a :\n",
    "    if i>large:\n",
    "        large = i\n",
    "print(large)"
   ]
  },
  {
   "cell_type": "code",
   "execution_count": 5,
   "metadata": {},
   "outputs": [
    {
     "name": "stdout",
     "output_type": "stream",
     "text": [
      "2\n",
      "76\n"
     ]
    }
   ],
   "source": [
    "a=[32, 45, 2, 5, 76]\n",
    "\n",
    "a.sort()\n",
    "print(a[0])\n",
    "\n",
    "a.sort(reverse=True)\n",
    "print(a[0])"
   ]
  },
  {
   "cell_type": "code",
   "execution_count": 6,
   "metadata": {},
   "outputs": [
    {
     "name": "stdout",
     "output_type": "stream",
     "text": [
      "2\n",
      "76\n"
     ]
    }
   ],
   "source": [
    "a=[32, 45, 2, 5, 76]\n",
    "\n",
    "print(min(a))\n",
    "print(max(a))"
   ]
  },
  {
   "cell_type": "markdown",
   "metadata": {},
   "source": [
    "### 13.2 합계 구하기\n",
    "###### 13.2.1 sum"
   ]
  },
  {
   "cell_type": "code",
   "execution_count": 7,
   "metadata": {},
   "outputs": [
    {
     "name": "stdout",
     "output_type": "stream",
     "text": [
      "160\n"
     ]
    }
   ],
   "source": [
    "a=[32, 45, 2, 5, 76]\n",
    "\n",
    "b=0\n",
    "for i in a:\n",
    "    b+=i\n",
    "print(b)"
   ]
  },
  {
   "cell_type": "code",
   "execution_count": 8,
   "metadata": {},
   "outputs": [
    {
     "data": {
      "text/plain": [
       "160"
      ]
     },
     "execution_count": 8,
     "metadata": {},
     "output_type": "execute_result"
    }
   ],
   "source": [
    "a=[32, 45, 2, 5, 76]\n",
    "\n",
    "sum(a)"
   ]
  },
  {
   "cell_type": "markdown",
   "metadata": {},
   "source": [
    "### 13.3 split, join 함수\n",
    "###### 13.3.1 split 함수\n",
    "- 문자를 리스트로"
   ]
  },
  {
   "cell_type": "code",
   "execution_count": 11,
   "metadata": {},
   "outputs": [
    {
     "name": "stdout",
     "output_type": "stream",
     "text": [
      "['사과', '배', '옥수수', '당근']\n"
     ]
    }
   ],
   "source": [
    "fruit=\"사과,배,옥수수,당근\"\n",
    "fruit_list=fruit.split(\",\")\n",
    "print(fruit_list)"
   ]
  },
  {
   "cell_type": "markdown",
   "metadata": {},
   "source": [
    "###### 13.3.2 join 함수\n",
    "- 리스트를 문자로"
   ]
  },
  {
   "cell_type": "code",
   "execution_count": 9,
   "metadata": {},
   "outputs": [
    {
     "name": "stdout",
     "output_type": "stream",
     "text": [
      "사과배옥수수당근\n",
      "사과 배 옥수수 당근\n",
      "사과,배,옥수수,당근\n"
     ]
    }
   ],
   "source": [
    "fruit_list = ['사과','배','옥수수','당근']\n",
    "fruit =\"\".join(fruit_list)\n",
    "print(fruit)\n",
    "\n",
    "fruit =\" \".join(fruit_list)\n",
    "print(fruit)\n",
    "\n",
    "fruit =\",\".join(fruit_list)\n",
    "print(fruit)"
   ]
  },
  {
   "cell_type": "markdown",
   "metadata": {},
   "source": [
    "### 13.4 리스트 컴프리핸션(list comprehension)\n",
    "###### 13.4.1 list [식 for 변수 in 리스트]"
   ]
  },
  {
   "cell_type": "code",
   "execution_count": 11,
   "metadata": {
    "scrolled": true
   },
   "outputs": [
    {
     "name": "stdout",
     "output_type": "stream",
     "text": [
      "[0, 1, 2, 3, 4, 5, 6, 7, 8, 9]\n",
      "[5, 6, 7, 8, 9, 10, 11, 12, 13, 14]\n",
      "[0, 3, 6, 9, 12, 15, 18, 21, 24, 27]\n"
     ]
    }
   ],
   "source": [
    "a = [i for i in range(10)]\n",
    "print(a)\n",
    "b = [i+5 for i in range(10)]\n",
    "print(b)\n",
    "c = [i * 3 for i in range(10)]\n",
    "print(c)"
   ]
  },
  {
   "cell_type": "markdown",
   "metadata": {},
   "source": [
    "###### 13.4.2 list [식 for 변수 in 리스트 if 조건]"
   ]
  },
  {
   "cell_type": "code",
   "execution_count": 13,
   "metadata": {},
   "outputs": [
    {
     "name": "stdout",
     "output_type": "stream",
     "text": [
      "[0, 2, 4, 6, 8]\n",
      "[1, 3, 5, 7, 9]\n"
     ]
    }
   ],
   "source": [
    "a = [i for i in range(10) if i % 2 == 0]\n",
    "print(a)\n",
    "b = [i for i in range(10) if i % 2 == 1]\n",
    "print(b)"
   ]
  },
  {
   "cell_type": "markdown",
   "metadata": {},
   "source": [
    "###### 13.4.3 list [식 for 변수 in 리스트 for 변수 in 리스트]"
   ]
  },
  {
   "cell_type": "code",
   "execution_count": 14,
   "metadata": {
    "scrolled": true
   },
   "outputs": [
    {
     "name": "stdout",
     "output_type": "stream",
     "text": [
      "[2, 4, 6, 8, 10, 12, 14, 16, 18, 3, 6, 9, 12, 15, 18, 21, 24, 27, 4, 8, 12, 16, 20, 24, 28, 32, 36, 5, 10, 15, 20, 25, 30, 35, 40, 45, 6, 12, 18, 24, 30, 36, 42, 48, 54, 7, 14, 21, 28, 35, 42, 49, 56, 63, 8, 16, 24, 32, 40, 48, 56, 64, 72, 9, 18, 27, 36, 45, 54, 63, 72, 81]\n"
     ]
    }
   ],
   "source": [
    "a = [i * j for i in range(2, 10) for j in range(1, 10)]\n",
    "print(a)"
   ]
  },
  {
   "cell_type": "markdown",
   "metadata": {},
   "source": [
    "###### 13.4.4 리스트를 딕셔너리로 변경"
   ]
  },
  {
   "cell_type": "code",
   "execution_count": 1,
   "metadata": {},
   "outputs": [
    {
     "name": "stdout",
     "output_type": "stream",
     "text": [
      "{'name': 'tom', 'age': 20, 'address': 'incheon'}\n"
     ]
    }
   ],
   "source": [
    "keys = ['name', 'age', 'address']\n",
    "users = ['tom', 20, 'incheon']\n",
    "dicdic = {keys[i] : users[i] for i in range(0,3)}\n",
    "print(dicdic)"
   ]
  },
  {
   "cell_type": "markdown",
   "metadata": {},
   "source": [
    "### 13.5 ZIP\n",
    "###### 13.5.1 zip (리스트1, 리스트2)"
   ]
  },
  {
   "cell_type": "code",
   "execution_count": 4,
   "metadata": {},
   "outputs": [
    {
     "name": "stdout",
     "output_type": "stream",
     "text": [
      "{'name': 'tom', 'age': 20, 'address': 'incheon'}\n",
      "[('name', 'tom'), ('age', 20), ('address', 'incheon')]\n"
     ]
    }
   ],
   "source": [
    "keys = ['name', 'age', 'address']\n",
    "users = ['tom', 20, 'incheon']\n",
    "dic = dict(zip(keys, users))\n",
    "print(dic)\n",
    "\n",
    "lis = list(zip(keys, users))\n",
    "print(lis)"
   ]
  },
  {
   "cell_type": "markdown",
   "metadata": {},
   "source": [
    "### 실습 01\n",
    "**(1) word=['school', 'game', 'piano', 'science', 'hotel', 'mountain'] 중 글자수가 6글자 이상인 문자를 모아 새로운 리스트를 생성하세요. (리스트 컴프리핸션을 사용해주세요)**"
   ]
  },
  {
   "cell_type": "code",
   "execution_count": 7,
   "metadata": {},
   "outputs": [
    {
     "name": "stdout",
     "output_type": "stream",
     "text": [
      "['school', 'science', 'mountain']\n"
     ]
    }
   ],
   "source": [
    "word=['school', 'game', 'piano', 'science', 'hotel', 'mountain']\n",
    "\n",
    "six_word = [i for i in word if len(i) >= 6]\n",
    "print(six_word)"
   ]
  },
  {
   "cell_type": "markdown",
   "metadata": {},
   "source": [
    "**(2) word=['school', 'game', 'piano', 'science', 'hotel', 'mountain'] 리스트의 글자수가 들어가있는 새로운 리스트를 생성하세요 (리스트 컴프리핸션을 사용해주세요)**"
   ]
  },
  {
   "cell_type": "code",
   "execution_count": 8,
   "metadata": {},
   "outputs": [
    {
     "name": "stdout",
     "output_type": "stream",
     "text": [
      "[6, 4, 5, 7, 5, 8]\n"
     ]
    }
   ],
   "source": [
    "word=['school', 'game', 'piano', 'science', 'hotel', 'mountain']\n",
    "\n",
    "len_word = [len(i) for i in word]\n",
    "print(len_word)"
   ]
  },
  {
   "cell_type": "markdown",
   "metadata": {},
   "source": [
    "### 13.6 2차원리스트 (다차원 리스트)\n",
    "###### 13.6.1 2차원 리스트 선언"
   ]
  },
  {
   "cell_type": "code",
   "execution_count": 9,
   "metadata": {},
   "outputs": [
    {
     "name": "stdout",
     "output_type": "stream",
     "text": [
      "10\n",
      "20\n",
      "40\n"
     ]
    }
   ],
   "source": [
    "a = [[10,20], [30,40], [50,60]]\n",
    "print(a[0][0])\n",
    "print(a[0][1])\n",
    "print(a[1][1])"
   ]
  },
  {
   "cell_type": "markdown",
   "metadata": {},
   "source": [
    "###### 13.6.2 2차원 리스트 값 추가"
   ]
  },
  {
   "cell_type": "code",
   "execution_count": 13,
   "metadata": {
    "scrolled": true
   },
   "outputs": [
    {
     "name": "stdout",
     "output_type": "stream",
     "text": [
      "[[10, 20, 10], [30, 40], [50, 60]]\n",
      "[[10, 20, 10], [30, 40, 20], [50, 60]]\n",
      "[[10, 20, 10], [30, 40, 20], [50, 60, 1, 2]]\n"
     ]
    }
   ],
   "source": [
    "a = [[10,20], [30,40], [50,60]]\n",
    "a[0].append(10)\n",
    "print(a)\n",
    "a[1].append(20)\n",
    "print(a)\n",
    "a[2].extend([1,2])\n",
    "print(a)"
   ]
  },
  {
   "cell_type": "markdown",
   "metadata": {},
   "source": [
    "### 13.7 2차원 리스트 값 출력 (다차원 리스트)\n",
    "###### 13.7.1 for 문 사용"
   ]
  },
  {
   "cell_type": "code",
   "execution_count": 14,
   "metadata": {},
   "outputs": [
    {
     "name": "stdout",
     "output_type": "stream",
     "text": [
      "10 20\n",
      "30 40\n",
      "50 60\n"
     ]
    }
   ],
   "source": [
    "a = [[10,20], [30,40], [50,60]]\n",
    "for x,y in a:\n",
    "    print(x,y)"
   ]
  },
  {
   "cell_type": "markdown",
   "metadata": {},
   "source": [
    "###### 13.7.2 이중 for 문 사용"
   ]
  },
  {
   "cell_type": "code",
   "execution_count": 18,
   "metadata": {},
   "outputs": [
    {
     "name": "stdout",
     "output_type": "stream",
     "text": [
      "10 20 30 40 50 60 \n"
     ]
    }
   ],
   "source": [
    "a = [[10,20], [30,40], [50,60]]\n",
    "for i in a:\n",
    "    for j in i:\n",
    "        print(j, end=' ')\n",
    "print()"
   ]
  },
  {
   "cell_type": "markdown",
   "metadata": {},
   "source": [
    "### 13.8 2차원 리스트 값 접근 (다차원 리스트)\n",
    "###### 13.8.1 for 와 rnage 사용"
   ]
  },
  {
   "cell_type": "code",
   "execution_count": 20,
   "metadata": {},
   "outputs": [
    {
     "name": "stdout",
     "output_type": "stream",
     "text": [
      "10 20 \n",
      "30 40 \n",
      "50 60 \n"
     ]
    }
   ],
   "source": [
    "a = [[10,20], [30,40], [50,60]]\n",
    "for i in range(len(a)):\n",
    "    for j in range(len(a[i])):\n",
    "        print(a[i][j], end=' ')\n",
    "    print()"
   ]
  },
  {
   "cell_type": "markdown",
   "metadata": {},
   "source": [
    "###### 13.8.2 for 와 enumerate 사용"
   ]
  },
  {
   "cell_type": "code",
   "execution_count": 21,
   "metadata": {},
   "outputs": [
    {
     "name": "stdout",
     "output_type": "stream",
     "text": [
      "0 0 10\n",
      "0 1 20\n",
      "1 0 30\n",
      "1 1 40\n",
      "2 0 50\n",
      "2 1 60\n"
     ]
    }
   ],
   "source": [
    "a = [[10,20], [30,40], [50,60]]\n",
    "for idx, val in enumerate(a):\n",
    "    for idx2, val2 in enumerate(val):\n",
    "        print(idx, idx2, val2)"
   ]
  },
  {
   "cell_type": "markdown",
   "metadata": {},
   "source": [
    "### 13.9 2차원 리스트 만들기"
   ]
  },
  {
   "cell_type": "code",
   "execution_count": 23,
   "metadata": {},
   "outputs": [
    {
     "name": "stdout",
     "output_type": "stream",
     "text": [
      "[[0, 0], [0, 0], [0, 0]]\n"
     ]
    }
   ],
   "source": [
    "a = []\n",
    "for i in range(3):\n",
    "    temp = []\n",
    "    for j in range(2):\n",
    "        temp.append(0)\n",
    "    a.append(temp)\n",
    "print(a)"
   ]
  },
  {
   "cell_type": "markdown",
   "metadata": {},
   "source": [
    "### 실습 02\n",
    "**아래 두 리스트를 곱해 새로운 리스트 C를 만드세요<br>\n",
    "a = [[10,20], [30,40], [50,60]]<br>\n",
    "b = [[2,3], [4,5], [6,7]]**"
   ]
  },
  {
   "cell_type": "code",
   "execution_count": 34,
   "metadata": {},
   "outputs": [
    {
     "name": "stdout",
     "output_type": "stream",
     "text": [
      "[[20, 60], [120, 200], [300, 420]]\n"
     ]
    }
   ],
   "source": [
    "a = [[10,20], [30,40], [50,60]]\n",
    "b = [[2,3], [4,5], [6,7]]\n",
    "c = []\n",
    "for i in range(len(a)):\n",
    "    c_pre = []\n",
    "    for j in range(len(a[i])):\n",
    "        c_pre.append(a[i][j]*b[i][j])\n",
    "    c.append(c_pre)\n",
    "print(c)"
   ]
  },
  {
   "cell_type": "markdown",
   "metadata": {},
   "source": [
    "### 실습 03\n",
    "**아래의 학습 코드를 가지고 a리스트가 [[1,2],[3,4],[5,6]] 와 같이 만들어지도록 수정하세요**"
   ]
  },
  {
   "cell_type": "code",
   "execution_count": 37,
   "metadata": {},
   "outputs": [
    {
     "name": "stdout",
     "output_type": "stream",
     "text": [
      "[[1, 2], [3, 4], [5, 6]]\n"
     ]
    }
   ],
   "source": [
    "a = []\n",
    "c = 1\n",
    "for i in range(3):\n",
    "    temp = []\n",
    "    for j in range(2):\n",
    "        temp.append(c)\n",
    "        c += 1\n",
    "    a.append(temp)\n",
    "print(a)"
   ]
  },
  {
   "cell_type": "markdown",
   "metadata": {
    "scrolled": true
   },
   "source": [
    "# 14. 별 출력 (조건, 반복문 익숙해지기)\n",
    "### 14.1 별출력하기\n",
    "###### 14.1.1 사각형별"
   ]
  },
  {
   "cell_type": "code",
   "execution_count": 38,
   "metadata": {},
   "outputs": [
    {
     "name": "stdout",
     "output_type": "stream",
     "text": [
      "*****\n",
      "*****\n",
      "*****\n",
      "*****\n",
      "*****\n"
     ]
    }
   ],
   "source": [
    "for i in range(5):\n",
    "    print(\"*\"*5)"
   ]
  },
  {
   "cell_type": "markdown",
   "metadata": {},
   "source": [
    "###### 14.1.2 계단식별"
   ]
  },
  {
   "cell_type": "code",
   "execution_count": 39,
   "metadata": {
    "scrolled": false
   },
   "outputs": [
    {
     "name": "stdout",
     "output_type": "stream",
     "text": [
      "*\n",
      "**\n",
      "***\n",
      "****\n",
      "*****\n"
     ]
    }
   ],
   "source": [
    "for i in range(1,6):\n",
    "    print(\"*\"*i)"
   ]
  },
  {
   "cell_type": "markdown",
   "metadata": {},
   "source": [
    "###### 14.1.3 대각선 별"
   ]
  },
  {
   "cell_type": "code",
   "execution_count": 86,
   "metadata": {},
   "outputs": [
    {
     "name": "stdout",
     "output_type": "stream",
     "text": [
      "*\n",
      "    \n",
      " *\n",
      "   \n",
      "  *\n",
      "  \n",
      "   *\n",
      " \n",
      "    *\n",
      "\n"
     ]
    }
   ],
   "source": [
    "for i in range(5):\n",
    "    for j in range(5):\n",
    "        if i == j:\n",
    "            print('*\\n', end='')\n",
    "        else :\n",
    "            print(\" \", end=\"\")\n",
    "    print()"
   ]
  },
  {
   "cell_type": "markdown",
   "metadata": {},
   "source": [
    "###### 14.1.4 계단식(역순)"
   ]
  },
  {
   "cell_type": "code",
   "execution_count": 90,
   "metadata": {},
   "outputs": [
    {
     "name": "stdout",
     "output_type": "stream",
     "text": [
      "*****\n",
      "****\n",
      "***\n",
      "**\n",
      "*\n"
     ]
    }
   ],
   "source": [
    "for i in range(5, 0, -1):\n",
    "    print('*'*i)"
   ]
  },
  {
   "cell_type": "markdown",
   "metadata": {},
   "source": [
    "###### 14.1.5 계단식 (역순)"
   ]
  },
  {
   "cell_type": "code",
   "execution_count": 91,
   "metadata": {},
   "outputs": [
    {
     "name": "stdout",
     "output_type": "stream",
     "text": [
      "*****\n",
      " ****\n",
      "  ***\n",
      "   **\n",
      "    *\n",
      "     \n"
     ]
    }
   ],
   "source": [
    "for i in range(6, 0, -1):\n",
    "    print(\"{:>5}\".format('*'*(i-1)))"
   ]
  },
  {
   "cell_type": "markdown",
   "metadata": {},
   "source": [
    "# 16. 파일 입출력\n",
    "\n",
    "### 16.1 파일 입출력\n",
    "\n",
    "###### 16.1.1 파일 쓰기"
   ]
  },
  {
   "cell_type": "code",
   "execution_count": 4,
   "metadata": {},
   "outputs": [],
   "source": [
    "file = open('file.txt', \"w\")\n",
    "file.write(\"First Flie, 백승엽\")\n",
    "file.close()"
   ]
  },
  {
   "cell_type": "markdown",
   "metadata": {},
   "source": [
    "###### 16.1.2 파일 읽기"
   ]
  },
  {
   "cell_type": "code",
   "execution_count": 5,
   "metadata": {},
   "outputs": [
    {
     "name": "stdout",
     "output_type": "stream",
     "text": [
      "First Flie, 백승엽\n"
     ]
    }
   ],
   "source": [
    "file = open(\"file.txt\", \"r\")\n",
    "text = file.read()\n",
    "print(text)\n",
    "file.close()"
   ]
  },
  {
   "cell_type": "markdown",
   "metadata": {},
   "source": [
    "### 16.2 with \n",
    "- 자동으로 파일객체 닫기"
   ]
  },
  {
   "cell_type": "code",
   "execution_count": 6,
   "metadata": {},
   "outputs": [
    {
     "name": "stdout",
     "output_type": "stream",
     "text": [
      "First Flie, 백승엽\n"
     ]
    }
   ],
   "source": [
    "with open(\"file.txt\", \"r\") as file:\n",
    "    text = file.read()\n",
    "    print(text)"
   ]
  },
  {
   "cell_type": "markdown",
   "metadata": {},
   "source": [
    "### 16.3 pickle 모듈을 이용한 리스트 파일에 저장하기"
   ]
  },
  {
   "cell_type": "code",
   "execution_count": 7,
   "metadata": {},
   "outputs": [],
   "source": [
    "import pickle\n",
    "\n",
    "text = [\"First File\", \"Second Line\"]\n",
    "\n",
    "with open(\"data.pkl\", \"wb\") as file:\n",
    "    pickle.dump(text, file)"
   ]
  },
  {
   "cell_type": "markdown",
   "metadata": {},
   "source": [
    "### 16.4 pickle 모듈을 이용한 리스트 파일에서 불러오기"
   ]
  },
  {
   "cell_type": "code",
   "execution_count": 8,
   "metadata": {},
   "outputs": [
    {
     "name": "stdout",
     "output_type": "stream",
     "text": [
      "['First File', 'Second Line']\n"
     ]
    }
   ],
   "source": [
    "import pickle\n",
    "\n",
    "with open(\"data.pkl\", \"rb\") as file :\n",
    "    data = pickle.load(file)\n",
    "    print(data)"
   ]
  },
  {
   "cell_type": "markdown",
   "metadata": {},
   "source": [
    "### 16.5 pickle 모듈을 이용한 다양한 자료형 저장하기"
   ]
  },
  {
   "cell_type": "code",
   "execution_count": 9,
   "metadata": {},
   "outputs": [],
   "source": [
    "import pickle\n",
    "\n",
    "name = \"tom\"\n",
    "age = 24\n",
    "address = \"서울시 마포구\"\n",
    "scores = {'python':90, 'deeplearning':95, 'database':85}\n",
    "\n",
    "with open(\"data2.pkl\", \"wb\") as file:\n",
    "    pickle.dump(name, file)\n",
    "    pickle.dump(age, file)\n",
    "    pickle.dump(address, file)\n",
    "    pickle.dump(scores, file)"
   ]
  },
  {
   "cell_type": "markdown",
   "metadata": {},
   "source": [
    "### 16.6 pickle 무듈을 이용한 다양한 자료형 불러오기"
   ]
  },
  {
   "cell_type": "code",
   "execution_count": 19,
   "metadata": {},
   "outputs": [],
   "source": [
    "import pickle\n",
    "\n",
    "with open(\"data2.pkl\", \"rb\") as file:\n",
    "    name2 = pickle.load(file)\n",
    "    age2 = pickle.load(file)\n",
    "    address2 = pickle.load(file)\n",
    "    scores2 = pickle.load(file)\n"
   ]
  },
  {
   "cell_type": "markdown",
   "metadata": {},
   "source": [
    "### 실습 01\n",
    "**가위바위보 게임 업그레이드**\n",
    "- 이전에 만든 가위바위보 게임을 총 게임 횟수와 승리횟수를 게임을 다시 실행해도 유지되도록 수정하세요."
   ]
  },
  {
   "cell_type": "code",
   "execution_count": 28,
   "metadata": {},
   "outputs": [
    {
     "name": "stdout",
     "output_type": "stream",
     "text": [
      "가위(1), 바위(2), 보(3)을 입력해주세요 : 1\n",
      "유저 : 가위, 컴퓨터 : 바위\n",
      "가위(1), 바위(2), 보(3)을 입력해주세요 : 2\n",
      "유저 : 바위, 컴퓨터 : 바위\n",
      "가위(1), 바위(2), 보(3)을 입력해주세요 : 3\n",
      "유저 : 보, 컴퓨터 : 가위\n",
      "가위(1), 바위(2), 보(3)을 입력해주세요 : 1\n",
      "유저 : 가위, 컴퓨터 : 가위\n",
      "가위(1), 바위(2), 보(3)을 입력해주세요 : 2\n",
      "유저 : 바위, 컴퓨터 : 가위\n",
      "가위(1), 바위(2), 보(3)을 입력해주세요 : 3\n",
      "유저 : 보, 컴퓨터 : 가위\n",
      "가위(1), 바위(2), 보(3)을 입력해주세요 : 4\n",
      "게임종료 (전체 : 18, 승리 : 4)\n"
     ]
    }
   ],
   "source": [
    "import random\n",
    "import pickle\n",
    "\n",
    "game_input = 1\n",
    "with open(\"game_data.pkl\", \"rb\") as file:\n",
    "        victory = pickle.load(file)\n",
    "        total = pickle.load(file)\n",
    "        \n",
    "game_dict = {1 : \"가위\", 2 : \"바위\", 3: \"보\"}\n",
    "\n",
    "while game_input in [1, 2, 3]:\n",
    "    game_input=int(input(\"가위(1), 바위(2), 보(3)을 입력해주세요 : \"))\n",
    "    game_bot = random.randint(1,3)\n",
    "    \n",
    "    if (game_input in [1,2,3]) and (game_bot in [1,2,3]):\n",
    "        print(\"유저 : {}, 컴퓨터 : {}\".format(game_dict[game_input], game_dict[game_bot]))\n",
    "        if (game_input == 1 and game_bot == 3) or (game_input == 2 and game_bot == 1) or (game_input == 3 and game_bot == 2):\n",
    "            victory += 1\n",
    "            total += 1\n",
    "        else : \n",
    "            total += 1\n",
    "            \n",
    "    else :\n",
    "        with open(\"game_data.pkl\", \"wb\") as file:\n",
    "            pickle.dump(victory, file)\n",
    "            pickle.dump(total, file)\n",
    "        print(\"게임종료 (전체 : {}, 승리 : {})\".format(total, victory))"
   ]
  },
  {
   "cell_type": "markdown",
   "metadata": {},
   "source": [
    "### 실습 02\n",
    "**성적관리 프로그램 개발**"
   ]
  },
  {
   "cell_type": "code",
   "execution_count": 55,
   "metadata": {},
   "outputs": [
    {
     "name": "stdout",
     "output_type": "stream",
     "text": [
      "메뉴를 선택해주세요.\n",
      "1 - 입력\n",
      "2 - 조회\n",
      "3 - 삭제\n",
      "0 - 종료\n",
      "1\n",
      "이름 : 백승엽\n",
      "수학 : 100\n",
      "과학 : 100\n",
      "영어 : 100\n",
      "메뉴를 선택해주세요.\n",
      "1 - 입력\n",
      "2 - 조회\n",
      "3 - 삭제\n",
      "0 - 종료\n",
      "3\n",
      "[0] 이름 : 백승엽, 수학 : 100, 과학 : 100, 영어 : 100\n",
      "삭제할 번호를 입력해주세요.0\n",
      "메뉴를 선택해주세요.\n",
      "1 - 입력\n",
      "2 - 조회\n",
      "3 - 삭제\n",
      "0 - 종료\n",
      "2\n",
      "메뉴를 선택해주세요.\n",
      "1 - 입력\n",
      "2 - 조회\n",
      "3 - 삭제\n",
      "0 - 종료\n",
      "0\n",
      "종료되었습니다.\n"
     ]
    }
   ],
   "source": [
    "import pickle\n",
    "\n",
    "school_dic = []\n",
    "\n",
    "while True : \n",
    "    menu = input(\"메뉴를 선택해주세요.\\n1 - 입력\\n2 - 조회\\n3 - 삭제\\n0 - 종료\\n\")\n",
    "    \n",
    "    if menu == '1':\n",
    "        name = input(\"이름 : \")\n",
    "        math = input(\"수학 : \")\n",
    "        science = input(\"과학 : \")\n",
    "        english = input(\"영어 : \")\n",
    "        for i in range(1):\n",
    "            dic = {}\n",
    "            for j in range(1):\n",
    "                dic.setdefault(\"이름\", name)\n",
    "                dic.setdefault(\"수학\", math)\n",
    "                dic.setdefault(\"과학\", science)\n",
    "                dic.setdefault(\"영어\", english)\n",
    "            school_dic.append(dic)\n",
    "        \n",
    "        with open(\"school_data.pkl\", \"wb\") as f:\n",
    "            pickle.dump(school_dic, f)\n",
    "            continue\n",
    "            \n",
    "            \n",
    "    elif menu == '2':\n",
    "        with open(\"school_data.pkl\", \"rb\") as f:\n",
    "            school_dic = pickle.load(f)\n",
    "        for i in range(len(school_dic)):\n",
    "            print(f\"[{i}] 이름 : {school_dic[i]['이름']}, 수학 : {school_dic[i]['수학']}, 과학 : {school_dic[i]['과학']}, 영어 : {school_dic[i]['영어']}\")\n",
    "            continue\n",
    "            \n",
    "            \n",
    "    elif menu == \"3\":\n",
    "        with open(\"school_data.pkl\", \"rb\") as f:\n",
    "            school_dic = pickle.load(f)\n",
    "        for i in range(len(school_dic)):\n",
    "            print(f\"[{i}] 이름 : {school_dic[i]['이름']}, 수학 : {school_dic[i]['수학']}, 과학 : {school_dic[i]['과학']}, 영어 : {school_dic[i]['영어']}\")\n",
    "            \n",
    "        cancel = int(input(\"삭제할 번호를 입력해주세요.\"))\n",
    "        \n",
    "        school_dic.pop(cancel)\n",
    "        with open(\"school_data.pkl\", \"wb\") as f:\n",
    "            pickle.dump(school_dic, f)\n",
    "            continue\n",
    "          \n",
    "    elif menu == \"0\":\n",
    "        print(\"종료되었습니다.\")\n",
    "        break\n",
    "            \n",
    "    else : \n",
    "        print(\"입력이 올바르지 않습니다. 다시 선택해주세요.\")\n",
    "        continue"
   ]
  },
  {
   "cell_type": "code",
   "execution_count": null,
   "metadata": {},
   "outputs": [],
   "source": []
  }
 ],
 "metadata": {
  "kernelspec": {
   "display_name": "Python 3",
   "language": "python",
   "name": "python3"
  },
  "language_info": {
   "codemirror_mode": {
    "name": "ipython",
    "version": 3
   },
   "file_extension": ".py",
   "mimetype": "text/x-python",
   "name": "python",
   "nbconvert_exporter": "python",
   "pygments_lexer": "ipython3",
   "version": "3.7.9"
  }
 },
 "nbformat": 4,
 "nbformat_minor": 4
}
